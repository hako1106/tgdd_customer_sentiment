{
 "cells": [
  {
   "cell_type": "code",
   "execution_count": 79,
   "id": "5b1f2155",
   "metadata": {},
   "outputs": [],
   "source": [
    "import pandas as pd\n",
    "import emoji"
   ]
  },
  {
   "cell_type": "markdown",
   "id": "fd61083c",
   "metadata": {},
   "source": [
    "# Xử lý `facebook_posts_summary.csv`"
   ]
  },
  {
   "cell_type": "code",
   "execution_count": 80,
   "id": "156e28fe",
   "metadata": {},
   "outputs": [
    {
     "data": {
      "application/vnd.microsoft.datawrangler.viewer.v0+json": {
       "columns": [
        {
         "name": "index",
         "rawType": "int64",
         "type": "integer"
        },
        {
         "name": "url",
         "rawType": "object",
         "type": "string"
        },
        {
         "name": "author",
         "rawType": "object",
         "type": "string"
        },
        {
         "name": "content",
         "rawType": "object",
         "type": "unknown"
        },
        {
         "name": "likes_count",
         "rawType": "int64",
         "type": "integer"
        },
        {
         "name": "comments_count",
         "rawType": "int64",
         "type": "integer"
        },
        {
         "name": "shares_count",
         "rawType": "int64",
         "type": "integer"
        },
        {
         "name": "total_comments_crawled",
         "rawType": "int64",
         "type": "integer"
        }
       ],
       "ref": "66c19138-2627-48b3-8a3f-aa1c81bab28d",
       "rows": [
        [
         "0",
         "https://www.facebook.com/100064878600431/posts/1147451870760756",
         "Thế Giới Di Động (thegioididong.com)",
         "Bạn KHÔNG CHỈ MUA LAPTOP mà mua CƠ HỘI ĐỂ BỨT PHÁ!\nTại Thế Giới Di Động, mỗi chiếc Laptop bạn chọn không chỉ là thiết bị – mà còn là người bạn đồng hành để Kiến thức mở rộng, nâng cao Cơ hội nghề nghiệp, khai phá Đam mê.\nVới những Ưu Đãi vô cùng Vượt Trội:\n 100% cài sẵn Windows bản quyền\n 100% tặng Microsoft Office\n Xài trước, trả sau 0% lãi suất\n Đặc quyền HSSV, GIÁO VIÊN giảm thêm đến 500.000\n Mua kèm chuột/ bàn phím/ balo/ túi/ tai nghe giảm đến 40%\nHãy tự tin sở hữu Laptop tại Thế Giới Di Độ...",
         "10000",
         "87",
         "5",
         "26"
        ],
        [
         "1",
         "https://www.facebook.com/100064878600431/posts/1147447477427862",
         "Thế Giới Di Động (thegioididong.com)",
         null,
         "27",
         "0",
         "5",
         "0"
        ],
        [
         "2",
         "https://www.facebook.com/100064878600431/posts/1147436614095615",
         "Thế Giới Di Động (thegioididong.com)",
         "MUA LAPTOP nhận trọn bộ HÀNH TRANG VƯỢT TRỘI!\nTại Thế Giới Di Động, mỗi chiếc Laptop bạn chọn không chỉ là thiết bị – mà còn là người bạn đồng hành để Kiến thức mở rộng, nâng cao Cơ hội nghề nghiệp, khai phá Đam mê.\nVới những Ưu Đãi vô cùng Vượt Trội:\n 100% cài sẵn Windows bản quyền\n 100% tặng Microsoft Office\n Xài trước, trả sau 0% lãi suất\n Đặc quyền HSSV, GIÁO VIÊN giảm thêm đến 500.000\n Mua kèm chuột/ bàn phím/ balo/ túi/ tai nghe giảm đến 40%\nHãy tự tin sở hữu Laptop tại Thế Giới Di Động – ...",
         "3200",
         "29",
         "5",
         "8"
        ],
        [
         "3",
         "https://www.facebook.com/100064878600431/posts/1147413360764607",
         "Thế Giới Di Động (thegioididong.com)",
         "Thế Giới Di Động KHÔNG CHỈ BÁN LAPTOP mà trao cả HÀNH TRANG TƯƠNG LAI!\nTại Thế Giới Di Động, mỗi chiếc Laptop bạn chọn không chỉ là thiết bị – mà còn là người bạn đồng hành để Kiến thức mở rộng, nâng cao Cơ hội nghề nghiệp, khai phá Đam mê\nVới những Ưu Đãi vô cùng Vượt Trội:\n 100% cài sẵn Windows bản quyền\n 100% tặng Microsoft Office\n Xài trước, trả sau 0% lãi suất\n Đặc quyền HSSV, GIÁO VIÊN giảm thêm đến 500.000\n Mua kèm chuột/ bàn phím/ balo/ túi/ tai nghe giảm đến 40%\nHãy tự tin sở hữu Laptop...",
         "4400",
         "60",
         "5",
         "24"
        ],
        [
         "4",
         "https://www.facebook.com/100064878600431/posts/1146548730851070",
         "Thế Giới Di Động (thegioididong.com)",
         "Laptop không chỉ để làm việc, đó là hành trang bắt đầu mọi ước mơ. Bạn không mua laptop mà mua cơ hội để bứt phá. \nMua laptop ở Thế Giới Di Động - mua luôn tương lai Vượt Trội cùng ưu đãi Vượt Trội:\n 100% cài sẵn Windows\n 100% tặng Office bản quyền\n Xài trước, trả sau 0% lãi suất\n Đặc quyền HSSV, GIÁO VIÊN giảm thêm đến 500K.\n Phụ kiện Laptop mua kèm Giảm đến 50%++\nHãy tự tin sở hữu Laptop tại Thế Giới Di Động – nơi mỗi chiếc máy là chìa khoá, là bệ phóng, là cánh cửa tươi sáng dẫn lối bạn bước ...",
         "1600",
         "9",
         "6",
         "4"
        ],
        [
         "5",
         "https://www.facebook.com/100064878600431/posts/1146531914186085",
         "Thế Giới Di Động (thegioididong.com)",
         null,
         "94",
         "20",
         "6",
         "6"
        ],
        [
         "6",
         "https://www.facebook.com/100064878600431/posts/1146529790852964",
         "Thế Giới Di Động (thegioididong.com)",
         "Từ một chiếc laptop – bạn có thể viết nên cả hành trình. Laptop là khởi đầu cho hành trình chinh phục tương lai.\nMua laptop ở Thế Giới Di Động - mua luôn tương lai Vượt Trội cùng ưu đãi Vượt Trội:\n 100% cài sẵn Windows\n 100% tặng Office bản quyền\n Xài trước, trả sau 0% lãi suất\n Đặc quyền HSSV, GIÁO VIÊN giảm thêm đến 500K.\n Phụ kiện Laptop mua kèm Giảm đến 50%++\nHãy tự tin sở hữu Laptop tại Thế Giới Di Động – nơi mỗi chiếc máy là chìa khoá, là bệ phóng, là cánh cửa tươi sáng dẫn lối bạn bước và...",
         "818",
         "31",
         "6",
         "14"
        ],
        [
         "7",
         "https://www.facebook.com/100064878600431/posts/1146504504188826",
         "Thế Giới Di Động (thegioididong.com)",
         "Chính thức từ 1/6/2025 – Thế Giới Di Động KHÔNG BÁN LAPTOP mà bán cả HÀNH TRANG TƯƠNG LAI.\nTại Thế Giới Di Động, mỗi chiếc Laptop bạn chọn không chỉ là thiết bị – mà là người bạn đồng hành để Kiến thức mở rộng, nâng cao Cơ hội nghề nghiệp, khai phá Đam mê.\nVới những Ưu Đãi vô cùng Vượt Trội:\n 100% cài sẵn Windows\n 100% tặng Office bản quyền\n Xài trước, trả sau 0% lãi suất\n Đặc quyền HSSV, GIÁO VIÊN giảm thêm.\n Phụ kiện Laptop mua kèm Giảm đến 50%++\nHãy tự tin sở hữu Laptop tại Thế Giới Di Động –...",
         "1400",
         "236",
         "6",
         "97"
        ],
        [
         "8",
         "https://www.facebook.com/100064878600431/posts/1145328240973119",
         "Thế Giới Di Động (thegioididong.com)",
         "Từ 1/6/2025\nThế Giới Di Động KHÔNG BÁN LAPTOP\nChúng tôi mang đến... một Giá trị Vượt Trội và hơn thế.\nTo be continued",
         "1700",
         "655",
         "30",
         "236"
        ]
       ],
       "shape": {
        "columns": 7,
        "rows": 9
       }
      },
      "text/html": [
       "<div>\n",
       "<style scoped>\n",
       "    .dataframe tbody tr th:only-of-type {\n",
       "        vertical-align: middle;\n",
       "    }\n",
       "\n",
       "    .dataframe tbody tr th {\n",
       "        vertical-align: top;\n",
       "    }\n",
       "\n",
       "    .dataframe thead th {\n",
       "        text-align: right;\n",
       "    }\n",
       "</style>\n",
       "<table border=\"1\" class=\"dataframe\">\n",
       "  <thead>\n",
       "    <tr style=\"text-align: right;\">\n",
       "      <th></th>\n",
       "      <th>url</th>\n",
       "      <th>author</th>\n",
       "      <th>content</th>\n",
       "      <th>likes_count</th>\n",
       "      <th>comments_count</th>\n",
       "      <th>shares_count</th>\n",
       "      <th>total_comments_crawled</th>\n",
       "    </tr>\n",
       "  </thead>\n",
       "  <tbody>\n",
       "    <tr>\n",
       "      <th>0</th>\n",
       "      <td>https://www.facebook.com/100064878600431/posts...</td>\n",
       "      <td>Thế Giới Di Động (thegioididong.com)</td>\n",
       "      <td>Bạn KHÔNG CHỈ MUA LAPTOP mà mua CƠ HỘI ĐỂ BỨT ...</td>\n",
       "      <td>10000</td>\n",
       "      <td>87</td>\n",
       "      <td>5</td>\n",
       "      <td>26</td>\n",
       "    </tr>\n",
       "    <tr>\n",
       "      <th>1</th>\n",
       "      <td>https://www.facebook.com/100064878600431/posts...</td>\n",
       "      <td>Thế Giới Di Động (thegioididong.com)</td>\n",
       "      <td>NaN</td>\n",
       "      <td>27</td>\n",
       "      <td>0</td>\n",
       "      <td>5</td>\n",
       "      <td>0</td>\n",
       "    </tr>\n",
       "    <tr>\n",
       "      <th>2</th>\n",
       "      <td>https://www.facebook.com/100064878600431/posts...</td>\n",
       "      <td>Thế Giới Di Động (thegioididong.com)</td>\n",
       "      <td>MUA LAPTOP nhận trọn bộ HÀNH TRANG VƯỢT TRỘI!\\...</td>\n",
       "      <td>3200</td>\n",
       "      <td>29</td>\n",
       "      <td>5</td>\n",
       "      <td>8</td>\n",
       "    </tr>\n",
       "    <tr>\n",
       "      <th>3</th>\n",
       "      <td>https://www.facebook.com/100064878600431/posts...</td>\n",
       "      <td>Thế Giới Di Động (thegioididong.com)</td>\n",
       "      <td>Thế Giới Di Động KHÔNG CHỈ BÁN LAPTOP mà trao ...</td>\n",
       "      <td>4400</td>\n",
       "      <td>60</td>\n",
       "      <td>5</td>\n",
       "      <td>24</td>\n",
       "    </tr>\n",
       "    <tr>\n",
       "      <th>4</th>\n",
       "      <td>https://www.facebook.com/100064878600431/posts...</td>\n",
       "      <td>Thế Giới Di Động (thegioididong.com)</td>\n",
       "      <td>Laptop không chỉ để làm việc, đó là hành trang...</td>\n",
       "      <td>1600</td>\n",
       "      <td>9</td>\n",
       "      <td>6</td>\n",
       "      <td>4</td>\n",
       "    </tr>\n",
       "    <tr>\n",
       "      <th>5</th>\n",
       "      <td>https://www.facebook.com/100064878600431/posts...</td>\n",
       "      <td>Thế Giới Di Động (thegioididong.com)</td>\n",
       "      <td>NaN</td>\n",
       "      <td>94</td>\n",
       "      <td>20</td>\n",
       "      <td>6</td>\n",
       "      <td>6</td>\n",
       "    </tr>\n",
       "    <tr>\n",
       "      <th>6</th>\n",
       "      <td>https://www.facebook.com/100064878600431/posts...</td>\n",
       "      <td>Thế Giới Di Động (thegioididong.com)</td>\n",
       "      <td>Từ một chiếc laptop – bạn có thể viết nên cả h...</td>\n",
       "      <td>818</td>\n",
       "      <td>31</td>\n",
       "      <td>6</td>\n",
       "      <td>14</td>\n",
       "    </tr>\n",
       "    <tr>\n",
       "      <th>7</th>\n",
       "      <td>https://www.facebook.com/100064878600431/posts...</td>\n",
       "      <td>Thế Giới Di Động (thegioididong.com)</td>\n",
       "      <td>Chính thức từ 1/6/2025 – Thế Giới Di Động KHÔN...</td>\n",
       "      <td>1400</td>\n",
       "      <td>236</td>\n",
       "      <td>6</td>\n",
       "      <td>97</td>\n",
       "    </tr>\n",
       "    <tr>\n",
       "      <th>8</th>\n",
       "      <td>https://www.facebook.com/100064878600431/posts...</td>\n",
       "      <td>Thế Giới Di Động (thegioididong.com)</td>\n",
       "      <td>Từ 1/6/2025\\nThế Giới Di Động KHÔNG BÁN LAPTOP...</td>\n",
       "      <td>1700</td>\n",
       "      <td>655</td>\n",
       "      <td>30</td>\n",
       "      <td>236</td>\n",
       "    </tr>\n",
       "  </tbody>\n",
       "</table>\n",
       "</div>"
      ],
      "text/plain": [
       "                                                 url  \\\n",
       "0  https://www.facebook.com/100064878600431/posts...   \n",
       "1  https://www.facebook.com/100064878600431/posts...   \n",
       "2  https://www.facebook.com/100064878600431/posts...   \n",
       "3  https://www.facebook.com/100064878600431/posts...   \n",
       "4  https://www.facebook.com/100064878600431/posts...   \n",
       "5  https://www.facebook.com/100064878600431/posts...   \n",
       "6  https://www.facebook.com/100064878600431/posts...   \n",
       "7  https://www.facebook.com/100064878600431/posts...   \n",
       "8  https://www.facebook.com/100064878600431/posts...   \n",
       "\n",
       "                                 author  \\\n",
       "0  Thế Giới Di Động (thegioididong.com)   \n",
       "1  Thế Giới Di Động (thegioididong.com)   \n",
       "2  Thế Giới Di Động (thegioididong.com)   \n",
       "3  Thế Giới Di Động (thegioididong.com)   \n",
       "4  Thế Giới Di Động (thegioididong.com)   \n",
       "5  Thế Giới Di Động (thegioididong.com)   \n",
       "6  Thế Giới Di Động (thegioididong.com)   \n",
       "7  Thế Giới Di Động (thegioididong.com)   \n",
       "8  Thế Giới Di Động (thegioididong.com)   \n",
       "\n",
       "                                             content  likes_count  \\\n",
       "0  Bạn KHÔNG CHỈ MUA LAPTOP mà mua CƠ HỘI ĐỂ BỨT ...        10000   \n",
       "1                                                NaN           27   \n",
       "2  MUA LAPTOP nhận trọn bộ HÀNH TRANG VƯỢT TRỘI!\\...         3200   \n",
       "3  Thế Giới Di Động KHÔNG CHỈ BÁN LAPTOP mà trao ...         4400   \n",
       "4  Laptop không chỉ để làm việc, đó là hành trang...         1600   \n",
       "5                                                NaN           94   \n",
       "6  Từ một chiếc laptop – bạn có thể viết nên cả h...          818   \n",
       "7  Chính thức từ 1/6/2025 – Thế Giới Di Động KHÔN...         1400   \n",
       "8  Từ 1/6/2025\\nThế Giới Di Động KHÔNG BÁN LAPTOP...         1700   \n",
       "\n",
       "   comments_count  shares_count  total_comments_crawled  \n",
       "0              87             5                      26  \n",
       "1               0             5                       0  \n",
       "2              29             5                       8  \n",
       "3              60             5                      24  \n",
       "4               9             6                       4  \n",
       "5              20             6                       6  \n",
       "6              31             6                      14  \n",
       "7             236             6                      97  \n",
       "8             655            30                     236  "
      ]
     },
     "execution_count": 80,
     "metadata": {},
     "output_type": "execute_result"
    }
   ],
   "source": [
    "df_post = pd.read_csv('../data/crawl/facebook_posts_summary.csv')\n",
    "df_post"
   ]
  },
  {
   "cell_type": "code",
   "execution_count": 81,
   "id": "1c8d6513",
   "metadata": {},
   "outputs": [
    {
     "data": {
      "application/vnd.microsoft.datawrangler.viewer.v0+json": {
       "columns": [
        {
         "name": "index",
         "rawType": "object",
         "type": "string"
        },
        {
         "name": "0",
         "rawType": "int64",
         "type": "integer"
        }
       ],
       "ref": "ed05ac36-a550-49eb-a898-bf19af74e5eb",
       "rows": [
        [
         "url",
         "0"
        ],
        [
         "author",
         "0"
        ],
        [
         "content",
         "2"
        ],
        [
         "likes_count",
         "0"
        ],
        [
         "comments_count",
         "0"
        ],
        [
         "shares_count",
         "0"
        ],
        [
         "total_comments_crawled",
         "0"
        ]
       ],
       "shape": {
        "columns": 1,
        "rows": 7
       }
      },
      "text/plain": [
       "url                       0\n",
       "author                    0\n",
       "content                   2\n",
       "likes_count               0\n",
       "comments_count            0\n",
       "shares_count              0\n",
       "total_comments_crawled    0\n",
       "dtype: int64"
      ]
     },
     "execution_count": 81,
     "metadata": {},
     "output_type": "execute_result"
    }
   ],
   "source": [
    "df_post.isnull().sum()"
   ]
  },
  {
   "cell_type": "code",
   "execution_count": 82,
   "id": "89bf9dc5",
   "metadata": {},
   "outputs": [
    {
     "data": {
      "application/vnd.microsoft.datawrangler.viewer.v0+json": {
       "columns": [
        {
         "name": "index",
         "rawType": "int64",
         "type": "integer"
        },
        {
         "name": "url",
         "rawType": "object",
         "type": "string"
        },
        {
         "name": "author",
         "rawType": "object",
         "type": "string"
        },
        {
         "name": "content",
         "rawType": "object",
         "type": "string"
        },
        {
         "name": "likes_count",
         "rawType": "int64",
         "type": "integer"
        },
        {
         "name": "comments_count",
         "rawType": "int64",
         "type": "integer"
        },
        {
         "name": "shares_count",
         "rawType": "int64",
         "type": "integer"
        },
        {
         "name": "total_comments_crawled",
         "rawType": "int64",
         "type": "integer"
        },
        {
         "name": "total_engagement",
         "rawType": "int64",
         "type": "integer"
        }
       ],
       "ref": "620a6b5d-9456-4551-a4bb-24a3a2a69493",
       "rows": [
        [
         "0",
         "https://www.facebook.com/100064878600431/posts/1147451870760756",
         "Thế Giới Di Động (thegioididong.com)",
         "Bạn KHÔNG CHỈ MUA LAPTOP mà mua CƠ HỘI ĐỂ BỨT PHÁ!\nTại Thế Giới Di Động, mỗi chiếc Laptop bạn chọn không chỉ là thiết bị – mà còn là người bạn đồng hành để Kiến thức mở rộng, nâng cao Cơ hội nghề nghiệp, khai phá Đam mê.\nVới những Ưu Đãi vô cùng Vượt Trội:\n 100% cài sẵn Windows bản quyền\n 100% tặng Microsoft Office\n Xài trước, trả sau 0% lãi suất\n Đặc quyền HSSV, GIÁO VIÊN giảm thêm đến 500.000\n Mua kèm chuột/ bàn phím/ balo/ túi/ tai nghe giảm đến 40%\nHãy tự tin sở hữu Laptop tại Thế Giới Di Độ...",
         "10000",
         "87",
         "5",
         "26",
         "10092"
        ],
        [
         "1",
         "https://www.facebook.com/100064878600431/posts/1147447477427862",
         "Thế Giới Di Động (thegioididong.com)",
         "Cập nhật ảnh bìa",
         "27",
         "0",
         "5",
         "0",
         "32"
        ],
        [
         "2",
         "https://www.facebook.com/100064878600431/posts/1147436614095615",
         "Thế Giới Di Động (thegioididong.com)",
         "MUA LAPTOP nhận trọn bộ HÀNH TRANG VƯỢT TRỘI!\nTại Thế Giới Di Động, mỗi chiếc Laptop bạn chọn không chỉ là thiết bị – mà còn là người bạn đồng hành để Kiến thức mở rộng, nâng cao Cơ hội nghề nghiệp, khai phá Đam mê.\nVới những Ưu Đãi vô cùng Vượt Trội:\n 100% cài sẵn Windows bản quyền\n 100% tặng Microsoft Office\n Xài trước, trả sau 0% lãi suất\n Đặc quyền HSSV, GIÁO VIÊN giảm thêm đến 500.000\n Mua kèm chuột/ bàn phím/ balo/ túi/ tai nghe giảm đến 40%\nHãy tự tin sở hữu Laptop tại Thế Giới Di Động – ...",
         "3200",
         "29",
         "5",
         "8",
         "3234"
        ],
        [
         "3",
         "https://www.facebook.com/100064878600431/posts/1147413360764607",
         "Thế Giới Di Động (thegioididong.com)",
         "Thế Giới Di Động KHÔNG CHỈ BÁN LAPTOP mà trao cả HÀNH TRANG TƯƠNG LAI!\nTại Thế Giới Di Động, mỗi chiếc Laptop bạn chọn không chỉ là thiết bị – mà còn là người bạn đồng hành để Kiến thức mở rộng, nâng cao Cơ hội nghề nghiệp, khai phá Đam mê\nVới những Ưu Đãi vô cùng Vượt Trội:\n 100% cài sẵn Windows bản quyền\n 100% tặng Microsoft Office\n Xài trước, trả sau 0% lãi suất\n Đặc quyền HSSV, GIÁO VIÊN giảm thêm đến 500.000\n Mua kèm chuột/ bàn phím/ balo/ túi/ tai nghe giảm đến 40%\nHãy tự tin sở hữu Laptop...",
         "4400",
         "60",
         "5",
         "24",
         "4465"
        ],
        [
         "4",
         "https://www.facebook.com/100064878600431/posts/1146548730851070",
         "Thế Giới Di Động (thegioididong.com)",
         "Laptop không chỉ để làm việc, đó là hành trang bắt đầu mọi ước mơ. Bạn không mua laptop mà mua cơ hội để bứt phá. \nMua laptop ở Thế Giới Di Động - mua luôn tương lai Vượt Trội cùng ưu đãi Vượt Trội:\n 100% cài sẵn Windows\n 100% tặng Office bản quyền\n Xài trước, trả sau 0% lãi suất\n Đặc quyền HSSV, GIÁO VIÊN giảm thêm đến 500K.\n Phụ kiện Laptop mua kèm Giảm đến 50%++\nHãy tự tin sở hữu Laptop tại Thế Giới Di Động – nơi mỗi chiếc máy là chìa khoá, là bệ phóng, là cánh cửa tươi sáng dẫn lối bạn bước ...",
         "1600",
         "9",
         "6",
         "4",
         "1615"
        ],
        [
         "5",
         "https://www.facebook.com/100064878600431/posts/1146531914186085",
         "Thế Giới Di Động (thegioididong.com)",
         "Cập nhật ảnh bìa",
         "94",
         "20",
         "6",
         "6",
         "120"
        ],
        [
         "6",
         "https://www.facebook.com/100064878600431/posts/1146529790852964",
         "Thế Giới Di Động (thegioididong.com)",
         "Từ một chiếc laptop – bạn có thể viết nên cả hành trình. Laptop là khởi đầu cho hành trình chinh phục tương lai.\nMua laptop ở Thế Giới Di Động - mua luôn tương lai Vượt Trội cùng ưu đãi Vượt Trội:\n 100% cài sẵn Windows\n 100% tặng Office bản quyền\n Xài trước, trả sau 0% lãi suất\n Đặc quyền HSSV, GIÁO VIÊN giảm thêm đến 500K.\n Phụ kiện Laptop mua kèm Giảm đến 50%++\nHãy tự tin sở hữu Laptop tại Thế Giới Di Động – nơi mỗi chiếc máy là chìa khoá, là bệ phóng, là cánh cửa tươi sáng dẫn lối bạn bước và...",
         "818",
         "31",
         "6",
         "14",
         "855"
        ],
        [
         "7",
         "https://www.facebook.com/100064878600431/posts/1146504504188826",
         "Thế Giới Di Động (thegioididong.com)",
         "Chính thức từ 1/6/2025 – Thế Giới Di Động KHÔNG BÁN LAPTOP mà bán cả HÀNH TRANG TƯƠNG LAI.\nTại Thế Giới Di Động, mỗi chiếc Laptop bạn chọn không chỉ là thiết bị – mà là người bạn đồng hành để Kiến thức mở rộng, nâng cao Cơ hội nghề nghiệp, khai phá Đam mê.\nVới những Ưu Đãi vô cùng Vượt Trội:\n 100% cài sẵn Windows\n 100% tặng Office bản quyền\n Xài trước, trả sau 0% lãi suất\n Đặc quyền HSSV, GIÁO VIÊN giảm thêm.\n Phụ kiện Laptop mua kèm Giảm đến 50%++\nHãy tự tin sở hữu Laptop tại Thế Giới Di Động –...",
         "1400",
         "236",
         "6",
         "97",
         "1642"
        ],
        [
         "8",
         "https://www.facebook.com/100064878600431/posts/1145328240973119",
         "Thế Giới Di Động (thegioididong.com)",
         "Từ 1/6/2025\nThế Giới Di Động KHÔNG BÁN LAPTOP\nChúng tôi mang đến... một Giá trị Vượt Trội và hơn thế.\nTo be continued",
         "1700",
         "655",
         "30",
         "236",
         "2385"
        ]
       ],
       "shape": {
        "columns": 8,
        "rows": 9
       }
      },
      "text/html": [
       "<div>\n",
       "<style scoped>\n",
       "    .dataframe tbody tr th:only-of-type {\n",
       "        vertical-align: middle;\n",
       "    }\n",
       "\n",
       "    .dataframe tbody tr th {\n",
       "        vertical-align: top;\n",
       "    }\n",
       "\n",
       "    .dataframe thead th {\n",
       "        text-align: right;\n",
       "    }\n",
       "</style>\n",
       "<table border=\"1\" class=\"dataframe\">\n",
       "  <thead>\n",
       "    <tr style=\"text-align: right;\">\n",
       "      <th></th>\n",
       "      <th>url</th>\n",
       "      <th>author</th>\n",
       "      <th>content</th>\n",
       "      <th>likes_count</th>\n",
       "      <th>comments_count</th>\n",
       "      <th>shares_count</th>\n",
       "      <th>total_comments_crawled</th>\n",
       "      <th>total_engagement</th>\n",
       "    </tr>\n",
       "  </thead>\n",
       "  <tbody>\n",
       "    <tr>\n",
       "      <th>0</th>\n",
       "      <td>https://www.facebook.com/100064878600431/posts...</td>\n",
       "      <td>Thế Giới Di Động (thegioididong.com)</td>\n",
       "      <td>Bạn KHÔNG CHỈ MUA LAPTOP mà mua CƠ HỘI ĐỂ BỨT ...</td>\n",
       "      <td>10000</td>\n",
       "      <td>87</td>\n",
       "      <td>5</td>\n",
       "      <td>26</td>\n",
       "      <td>10092</td>\n",
       "    </tr>\n",
       "    <tr>\n",
       "      <th>1</th>\n",
       "      <td>https://www.facebook.com/100064878600431/posts...</td>\n",
       "      <td>Thế Giới Di Động (thegioididong.com)</td>\n",
       "      <td>Cập nhật ảnh bìa</td>\n",
       "      <td>27</td>\n",
       "      <td>0</td>\n",
       "      <td>5</td>\n",
       "      <td>0</td>\n",
       "      <td>32</td>\n",
       "    </tr>\n",
       "    <tr>\n",
       "      <th>2</th>\n",
       "      <td>https://www.facebook.com/100064878600431/posts...</td>\n",
       "      <td>Thế Giới Di Động (thegioididong.com)</td>\n",
       "      <td>MUA LAPTOP nhận trọn bộ HÀNH TRANG VƯỢT TRỘI!\\...</td>\n",
       "      <td>3200</td>\n",
       "      <td>29</td>\n",
       "      <td>5</td>\n",
       "      <td>8</td>\n",
       "      <td>3234</td>\n",
       "    </tr>\n",
       "    <tr>\n",
       "      <th>3</th>\n",
       "      <td>https://www.facebook.com/100064878600431/posts...</td>\n",
       "      <td>Thế Giới Di Động (thegioididong.com)</td>\n",
       "      <td>Thế Giới Di Động KHÔNG CHỈ BÁN LAPTOP mà trao ...</td>\n",
       "      <td>4400</td>\n",
       "      <td>60</td>\n",
       "      <td>5</td>\n",
       "      <td>24</td>\n",
       "      <td>4465</td>\n",
       "    </tr>\n",
       "    <tr>\n",
       "      <th>4</th>\n",
       "      <td>https://www.facebook.com/100064878600431/posts...</td>\n",
       "      <td>Thế Giới Di Động (thegioididong.com)</td>\n",
       "      <td>Laptop không chỉ để làm việc, đó là hành trang...</td>\n",
       "      <td>1600</td>\n",
       "      <td>9</td>\n",
       "      <td>6</td>\n",
       "      <td>4</td>\n",
       "      <td>1615</td>\n",
       "    </tr>\n",
       "    <tr>\n",
       "      <th>5</th>\n",
       "      <td>https://www.facebook.com/100064878600431/posts...</td>\n",
       "      <td>Thế Giới Di Động (thegioididong.com)</td>\n",
       "      <td>Cập nhật ảnh bìa</td>\n",
       "      <td>94</td>\n",
       "      <td>20</td>\n",
       "      <td>6</td>\n",
       "      <td>6</td>\n",
       "      <td>120</td>\n",
       "    </tr>\n",
       "    <tr>\n",
       "      <th>6</th>\n",
       "      <td>https://www.facebook.com/100064878600431/posts...</td>\n",
       "      <td>Thế Giới Di Động (thegioididong.com)</td>\n",
       "      <td>Từ một chiếc laptop – bạn có thể viết nên cả h...</td>\n",
       "      <td>818</td>\n",
       "      <td>31</td>\n",
       "      <td>6</td>\n",
       "      <td>14</td>\n",
       "      <td>855</td>\n",
       "    </tr>\n",
       "    <tr>\n",
       "      <th>7</th>\n",
       "      <td>https://www.facebook.com/100064878600431/posts...</td>\n",
       "      <td>Thế Giới Di Động (thegioididong.com)</td>\n",
       "      <td>Chính thức từ 1/6/2025 – Thế Giới Di Động KHÔN...</td>\n",
       "      <td>1400</td>\n",
       "      <td>236</td>\n",
       "      <td>6</td>\n",
       "      <td>97</td>\n",
       "      <td>1642</td>\n",
       "    </tr>\n",
       "    <tr>\n",
       "      <th>8</th>\n",
       "      <td>https://www.facebook.com/100064878600431/posts...</td>\n",
       "      <td>Thế Giới Di Động (thegioididong.com)</td>\n",
       "      <td>Từ 1/6/2025\\nThế Giới Di Động KHÔNG BÁN LAPTOP...</td>\n",
       "      <td>1700</td>\n",
       "      <td>655</td>\n",
       "      <td>30</td>\n",
       "      <td>236</td>\n",
       "      <td>2385</td>\n",
       "    </tr>\n",
       "  </tbody>\n",
       "</table>\n",
       "</div>"
      ],
      "text/plain": [
       "                                                 url  \\\n",
       "0  https://www.facebook.com/100064878600431/posts...   \n",
       "1  https://www.facebook.com/100064878600431/posts...   \n",
       "2  https://www.facebook.com/100064878600431/posts...   \n",
       "3  https://www.facebook.com/100064878600431/posts...   \n",
       "4  https://www.facebook.com/100064878600431/posts...   \n",
       "5  https://www.facebook.com/100064878600431/posts...   \n",
       "6  https://www.facebook.com/100064878600431/posts...   \n",
       "7  https://www.facebook.com/100064878600431/posts...   \n",
       "8  https://www.facebook.com/100064878600431/posts...   \n",
       "\n",
       "                                 author  \\\n",
       "0  Thế Giới Di Động (thegioididong.com)   \n",
       "1  Thế Giới Di Động (thegioididong.com)   \n",
       "2  Thế Giới Di Động (thegioididong.com)   \n",
       "3  Thế Giới Di Động (thegioididong.com)   \n",
       "4  Thế Giới Di Động (thegioididong.com)   \n",
       "5  Thế Giới Di Động (thegioididong.com)   \n",
       "6  Thế Giới Di Động (thegioididong.com)   \n",
       "7  Thế Giới Di Động (thegioididong.com)   \n",
       "8  Thế Giới Di Động (thegioididong.com)   \n",
       "\n",
       "                                             content  likes_count  \\\n",
       "0  Bạn KHÔNG CHỈ MUA LAPTOP mà mua CƠ HỘI ĐỂ BỨT ...        10000   \n",
       "1                                   Cập nhật ảnh bìa           27   \n",
       "2  MUA LAPTOP nhận trọn bộ HÀNH TRANG VƯỢT TRỘI!\\...         3200   \n",
       "3  Thế Giới Di Động KHÔNG CHỈ BÁN LAPTOP mà trao ...         4400   \n",
       "4  Laptop không chỉ để làm việc, đó là hành trang...         1600   \n",
       "5                                   Cập nhật ảnh bìa           94   \n",
       "6  Từ một chiếc laptop – bạn có thể viết nên cả h...          818   \n",
       "7  Chính thức từ 1/6/2025 – Thế Giới Di Động KHÔN...         1400   \n",
       "8  Từ 1/6/2025\\nThế Giới Di Động KHÔNG BÁN LAPTOP...         1700   \n",
       "\n",
       "   comments_count  shares_count  total_comments_crawled  total_engagement  \n",
       "0              87             5                      26             10092  \n",
       "1               0             5                       0                32  \n",
       "2              29             5                       8              3234  \n",
       "3              60             5                      24              4465  \n",
       "4               9             6                       4              1615  \n",
       "5              20             6                       6               120  \n",
       "6              31             6                      14               855  \n",
       "7             236             6                      97              1642  \n",
       "8             655            30                     236              2385  "
      ]
     },
     "execution_count": 82,
     "metadata": {},
     "output_type": "execute_result"
    }
   ],
   "source": [
    "df_post.loc[df_post['content'].isna(), 'content'] = (\n",
    "    \"Cập nhật ảnh bìa\"\n",
    ")\n",
    "\n",
    "df_post['total_engagement'] = (\n",
    "    df_post['likes_count'] +\n",
    "    df_post['shares_count'] +\n",
    "    df_post['comments_count']\n",
    ")\n",
    "\n",
    "df_post"
   ]
  },
  {
   "cell_type": "code",
   "execution_count": null,
   "id": "50bf5d17",
   "metadata": {},
   "outputs": [],
   "source": [
    "df_post.to_csv('../data/crawl/facebook_posts_cleaned.csv', index=False)"
   ]
  },
  {
   "cell_type": "markdown",
   "id": "c75f1add",
   "metadata": {},
   "source": [
    "# Xử lý `facebook_comments.csv`"
   ]
  },
  {
   "cell_type": "code",
   "execution_count": 83,
   "id": "8a8194c0",
   "metadata": {},
   "outputs": [
    {
     "data": {
      "application/vnd.microsoft.datawrangler.viewer.v0+json": {
       "columns": [
        {
         "name": "index",
         "rawType": "int64",
         "type": "integer"
        },
        {
         "name": "url",
         "rawType": "object",
         "type": "string"
        },
        {
         "name": "comment_text",
         "rawType": "object",
         "type": "string"
        }
       ],
       "ref": "f8f156fe-4c30-4bf2-87fe-1934ed0e51aa",
       "rows": [
        [
         "0",
         "https://www.facebook.com/100064878600431/posts/1147451870760756",
         " ❤️"
        ],
        [
         "1",
         "https://www.facebook.com/100064878600431/posts/1147451870760756",
         "Rất tuyệt vời"
        ],
        [
         "2",
         "https://www.facebook.com/100064878600431/posts/1147451870760756",
         "Em xin chúc anh mạnh khỏe vui vẻ thành công"
        ],
        [
         "3",
         "https://www.facebook.com/100064878600431/posts/1147451870760756",
         "Em xin anh chị bỏ qua giúp em"
        ],
        [
         "4",
         "https://www.facebook.com/100064878600431/posts/1147451870760756",
         "Em xin cảm ơn mến Đức"
        ],
        [
         "5",
         "https://www.facebook.com/100064878600431/posts/1147451870760756",
         "36 16 56 96. Dem xac mai moi san . DATA ? xac. Liem giay tao nhe xac mai moi san."
        ],
        [
         "6",
         "https://www.facebook.com/100064878600431/posts/1147451870760756",
         "Iphone 14prm"
        ],
        [
         "7",
         "https://www.facebook.com/100064878600431/posts/1147451870760756",
         "Hi"
        ],
        [
         "8",
         "https://www.facebook.com/100064878600431/posts/1147451870760756",
         "Mua laptop"
        ],
        [
         "9",
         "https://www.facebook.com/100064878600431/posts/1147451870760756",
         "Mua laptop"
        ],
        [
         "10",
         "https://www.facebook.com/100064878600431/posts/1147451870760756",
         "Ko thêm chữ còn sau chữ “mà” đc à"
        ],
        [
         "11",
         "https://www.facebook.com/100064878600431/posts/1147451870760756",
         "Tự hào về bạn quá, cố gắng phát huy nhé!"
        ],
        [
         "12",
         "https://www.facebook.com/100064878600431/posts/1147451870760756",
         " ❤️"
        ],
        [
         "13",
         "https://www.facebook.com/100064878600431/posts/1147451870760756",
         " 👍"
        ],
        [
         "14",
         "https://www.facebook.com/100064878600431/posts/1147451870760756",
         "https://vt.tiktok.com/ZSkjuEWyq/"
        ],
        [
         "15",
         "https://www.facebook.com/100064878600431/posts/1147451870760756",
         "Mọi chuyện rồi sẽ ổn, đừng lo quá!"
        ],
        [
         "16",
         "https://www.facebook.com/100064878600431/posts/1147451870760756",
         " ❤️"
        ],
        [
         "17",
         "https://www.facebook.com/100064878600431/posts/1147451870760756",
         " 🫶 🫶 🫶"
        ],
        [
         "18",
         "https://www.facebook.com/100064878600431/posts/1147451870760756",
         "xin chào"
        ],
        [
         "19",
         "https://www.facebook.com/100064878600431/posts/1147451870760756",
         "Xac ? Data ?"
        ],
        [
         "20",
         "https://www.facebook.com/100064878600431/posts/1147451870760756",
         "hello"
        ],
        [
         "21",
         "https://www.facebook.com/100064878600431/posts/1147451870760756",
         "Tt"
        ],
        [
         "22",
         "https://www.facebook.com/100064878600431/posts/1147451870760756",
         "xinn chàoo"
        ],
        [
         "23",
         "https://www.facebook.com/100064878600431/posts/1147451870760756",
         "xinn chàoo"
        ],
        [
         "24",
         "https://www.facebook.com/100064878600431/posts/1147451870760756",
         "Ok"
        ],
        [
         "25",
         "https://www.facebook.com/100064878600431/posts/1147451870760756",
         "\"Must-have item\" được săn lùng nhiều nhất! Chính là [tai nghe Airpods Pro rep 1:1]: https://vt.tiktok.com/ZSk1Hp6Jc/ 👍"
        ],
        [
         "26",
         "https://www.facebook.com/100064878600431/posts/1147436614095615",
         " ❤️"
        ],
        [
         "27",
         "https://www.facebook.com/100064878600431/posts/1147436614095615",
         "Rất tuyệt vời"
        ],
        [
         "28",
         "https://www.facebook.com/100064878600431/posts/1147436614095615",
         "Mua laptop"
        ],
        [
         "29",
         "https://www.facebook.com/100064878600431/posts/1147436614095615",
         "Mua laptop"
        ],
        [
         "30",
         "https://www.facebook.com/100064878600431/posts/1147436614095615",
         "hj"
        ],
        [
         "31",
         "https://www.facebook.com/100064878600431/posts/1147436614095615",
         "hello"
        ],
        [
         "32",
         "https://www.facebook.com/100064878600431/posts/1147436614095615",
         "Ok"
        ],
        [
         "33",
         "https://www.facebook.com/100064878600431/posts/1147436614095615",
         "woww"
        ],
        [
         "34",
         "https://www.facebook.com/100064878600431/posts/1147413360764607",
         "Đổi content rồi à :)) nhưng vẫn vote đuổi việc team content, team mkt nhé. Tập đoàn lớn mà sao content vcll"
        ],
        [
         "35",
         "https://www.facebook.com/100064878600431/posts/1147413360764607",
         "10 đỉm cho team vì biết nghe lời 🤣"
        ],
        [
         "36",
         "https://www.facebook.com/100064878600431/posts/1147413360764607",
         "Ủa sao hôm trước nói không bán, làm đi đồn quá trời quá đất"
        ],
        [
         "37",
         "https://www.facebook.com/100064878600431/posts/1147413360764607",
         "Rất tuyệt vời"
        ],
        [
         "38",
         "https://www.facebook.com/100064878600431/posts/1147413360764607",
         "Túm lại là bán cái gì"
        ],
        [
         "39",
         "https://www.facebook.com/100064878600431/posts/1147413360764607",
         "content thông minh hơn rồi đấy ad 😃"
        ],
        [
         "40",
         "https://www.facebook.com/100064878600431/posts/1147413360764607",
         "Laptop ko có sẵn ở Hcm, ship ở tỉnh xa tới giờ là 4 ngày rồi chưa tới, tính sát nút là 6 ngày mới chịu giao à, vận chuyển tệ thật sự"
        ],
        [
         "41",
         "https://www.facebook.com/100064878600431/posts/1147413360764607",
         "Xin gia laptop 9990000"
        ],
        [
         "42",
         "https://www.facebook.com/100064878600431/posts/1147413360764607",
         "Ok"
        ],
        [
         "43",
         "https://www.facebook.com/100064878600431/posts/1147413360764607",
         "Mua laptop"
        ],
        [
         "44",
         "https://www.facebook.com/100064878600431/posts/1147413360764607",
         "Mua laptop"
        ],
        [
         "45",
         "https://www.facebook.com/100064878600431/posts/1147413360764607",
         "Ib em tư vấn với ạ, e nhắn tin shop k được"
        ],
        [
         "46",
         "https://www.facebook.com/100064878600431/posts/1147413360764607",
         "Tưởng thế giới di động không chỉ bán laptop, mà còn bán cả điện thoại 🤣"
        ],
        [
         "47",
         "https://www.facebook.com/100064878600431/posts/1147413360764607",
         "TGDD không chỉ bán laptop mà còn bán content cho mấy hãng khác đu theo :)))"
        ],
        [
         "48",
         "https://www.facebook.com/100064878600431/posts/1147413360764607",
         "Ê nói nghe nè, ghi thêm chữ “còn” bị tam tai hả?"
        ],
        [
         "49",
         "https://www.facebook.com/100064878600431/posts/1147413360764607",
         "Nhắm làm content mà ko rành Tiếng Việt thì dẹp nghỉ đi cha, rồi anh chị nào duyệt content đợt này thì coi lại nha 🙂"
        ]
       ],
       "shape": {
        "columns": 2,
        "rows": 415
       }
      },
      "text/html": [
       "<div>\n",
       "<style scoped>\n",
       "    .dataframe tbody tr th:only-of-type {\n",
       "        vertical-align: middle;\n",
       "    }\n",
       "\n",
       "    .dataframe tbody tr th {\n",
       "        vertical-align: top;\n",
       "    }\n",
       "\n",
       "    .dataframe thead th {\n",
       "        text-align: right;\n",
       "    }\n",
       "</style>\n",
       "<table border=\"1\" class=\"dataframe\">\n",
       "  <thead>\n",
       "    <tr style=\"text-align: right;\">\n",
       "      <th></th>\n",
       "      <th>url</th>\n",
       "      <th>comment_text</th>\n",
       "    </tr>\n",
       "  </thead>\n",
       "  <tbody>\n",
       "    <tr>\n",
       "      <th>0</th>\n",
       "      <td>https://www.facebook.com/100064878600431/posts...</td>\n",
       "      <td>❤️</td>\n",
       "    </tr>\n",
       "    <tr>\n",
       "      <th>1</th>\n",
       "      <td>https://www.facebook.com/100064878600431/posts...</td>\n",
       "      <td>Rất tuyệt vời</td>\n",
       "    </tr>\n",
       "    <tr>\n",
       "      <th>2</th>\n",
       "      <td>https://www.facebook.com/100064878600431/posts...</td>\n",
       "      <td>Em xin chúc anh mạnh khỏe vui vẻ thành công</td>\n",
       "    </tr>\n",
       "    <tr>\n",
       "      <th>3</th>\n",
       "      <td>https://www.facebook.com/100064878600431/posts...</td>\n",
       "      <td>Em xin anh chị bỏ qua giúp em</td>\n",
       "    </tr>\n",
       "    <tr>\n",
       "      <th>4</th>\n",
       "      <td>https://www.facebook.com/100064878600431/posts...</td>\n",
       "      <td>Em xin cảm ơn mến Đức</td>\n",
       "    </tr>\n",
       "    <tr>\n",
       "      <th>...</th>\n",
       "      <td>...</td>\n",
       "      <td>...</td>\n",
       "    </tr>\n",
       "    <tr>\n",
       "      <th>410</th>\n",
       "      <td>https://www.facebook.com/100064878600431/posts...</td>\n",
       "      <td>Hết ý tưởng r à ad 🤣</td>\n",
       "    </tr>\n",
       "    <tr>\n",
       "      <th>411</th>\n",
       "      <td>https://www.facebook.com/100064878600431/posts...</td>\n",
       "      <td>À nay Tgdđ không bán laptop nữa, ae chuyển qua...</td>\n",
       "    </tr>\n",
       "    <tr>\n",
       "      <th>412</th>\n",
       "      <td>https://www.facebook.com/100064878600431/posts...</td>\n",
       "      <td>😀 😀</td>\n",
       "    </tr>\n",
       "    <tr>\n",
       "      <th>413</th>\n",
       "      <td>https://www.facebook.com/100064878600431/posts...</td>\n",
       "      <td>❤️</td>\n",
       "    </tr>\n",
       "    <tr>\n",
       "      <th>414</th>\n",
       "      <td>https://www.facebook.com/100064878600431/posts...</td>\n",
       "      <td>Không bán thì thôi, thiếu gì chỗ mua 🤨</td>\n",
       "    </tr>\n",
       "  </tbody>\n",
       "</table>\n",
       "<p>415 rows × 2 columns</p>\n",
       "</div>"
      ],
      "text/plain": [
       "                                                   url  \\\n",
       "0    https://www.facebook.com/100064878600431/posts...   \n",
       "1    https://www.facebook.com/100064878600431/posts...   \n",
       "2    https://www.facebook.com/100064878600431/posts...   \n",
       "3    https://www.facebook.com/100064878600431/posts...   \n",
       "4    https://www.facebook.com/100064878600431/posts...   \n",
       "..                                                 ...   \n",
       "410  https://www.facebook.com/100064878600431/posts...   \n",
       "411  https://www.facebook.com/100064878600431/posts...   \n",
       "412  https://www.facebook.com/100064878600431/posts...   \n",
       "413  https://www.facebook.com/100064878600431/posts...   \n",
       "414  https://www.facebook.com/100064878600431/posts...   \n",
       "\n",
       "                                          comment_text  \n",
       "0                                                   ❤️  \n",
       "1                                        Rất tuyệt vời  \n",
       "2          Em xin chúc anh mạnh khỏe vui vẻ thành công  \n",
       "3                        Em xin anh chị bỏ qua giúp em  \n",
       "4                                Em xin cảm ơn mến Đức  \n",
       "..                                                 ...  \n",
       "410                               Hết ý tưởng r à ad 🤣  \n",
       "411  À nay Tgdđ không bán laptop nữa, ae chuyển qua...  \n",
       "412                                                😀 😀  \n",
       "413                                                 ❤️  \n",
       "414             Không bán thì thôi, thiếu gì chỗ mua 🤨  \n",
       "\n",
       "[415 rows x 2 columns]"
      ]
     },
     "execution_count": 83,
     "metadata": {},
     "output_type": "execute_result"
    }
   ],
   "source": [
    "df_comments = pd.read_csv('../data/crawl/facebook_comments.csv')\n",
    "df_comments"
   ]
  },
  {
   "cell_type": "code",
   "execution_count": 84,
   "id": "480f3eaa",
   "metadata": {},
   "outputs": [
    {
     "data": {
      "application/vnd.microsoft.datawrangler.viewer.v0+json": {
       "columns": [
        {
         "name": "index",
         "rawType": "object",
         "type": "string"
        },
        {
         "name": "0",
         "rawType": "int64",
         "type": "integer"
        }
       ],
       "ref": "0b108b5f-d5a7-46ab-9a79-ce0024cc760e",
       "rows": [
        [
         "url",
         "0"
        ],
        [
         "comment_text",
         "0"
        ]
       ],
       "shape": {
        "columns": 1,
        "rows": 2
       }
      },
      "text/plain": [
       "url             0\n",
       "comment_text    0\n",
       "dtype: int64"
      ]
     },
     "execution_count": 84,
     "metadata": {},
     "output_type": "execute_result"
    }
   ],
   "source": [
    "df_comments.isnull().sum()"
   ]
  },
  {
   "cell_type": "code",
   "execution_count": 85,
   "id": "d16e8cde",
   "metadata": {},
   "outputs": [
    {
     "data": {
      "application/vnd.microsoft.datawrangler.viewer.v0+json": {
       "columns": [
        {
         "name": "index",
         "rawType": "int64",
         "type": "integer"
        },
        {
         "name": "url",
         "rawType": "object",
         "type": "string"
        },
        {
         "name": "comment_text",
         "rawType": "object",
         "type": "string"
        }
       ],
       "ref": "0ae96a42-e352-4aaf-83c4-f042d214e9ee",
       "rows": [
        [
         "0",
         "https://www.facebook.com/100064878600431/posts/1147451870760756",
         " ❤️"
        ],
        [
         "8",
         "https://www.facebook.com/100064878600431/posts/1147451870760756",
         "Mua laptop"
        ],
        [
         "9",
         "https://www.facebook.com/100064878600431/posts/1147451870760756",
         "Mua laptop"
        ],
        [
         "12",
         "https://www.facebook.com/100064878600431/posts/1147451870760756",
         " ❤️"
        ],
        [
         "16",
         "https://www.facebook.com/100064878600431/posts/1147451870760756",
         " ❤️"
        ],
        [
         "22",
         "https://www.facebook.com/100064878600431/posts/1147451870760756",
         "xinn chàoo"
        ],
        [
         "23",
         "https://www.facebook.com/100064878600431/posts/1147451870760756",
         "xinn chàoo"
        ],
        [
         "28",
         "https://www.facebook.com/100064878600431/posts/1147436614095615",
         "Mua laptop"
        ],
        [
         "29",
         "https://www.facebook.com/100064878600431/posts/1147436614095615",
         "Mua laptop"
        ],
        [
         "43",
         "https://www.facebook.com/100064878600431/posts/1147413360764607",
         "Mua laptop"
        ],
        [
         "44",
         "https://www.facebook.com/100064878600431/posts/1147413360764607",
         "Mua laptop"
        ],
        [
         "58",
         "https://www.facebook.com/100064878600431/posts/1146548730851070",
         "Rất tuyệt vời"
        ],
        [
         "59",
         "https://www.facebook.com/100064878600431/posts/1146548730851070",
         "Rất tuyệt vời"
        ],
        [
         "100",
         "https://www.facebook.com/100064878600431/posts/1146504504188826",
         "."
        ],
        [
         "125",
         "https://www.facebook.com/100064878600431/posts/1146504504188826",
         "."
        ],
        [
         "272",
         "https://www.facebook.com/100064878600431/posts/1145328240973119",
         "?"
        ],
        [
         "326",
         "https://www.facebook.com/100064878600431/posts/1145328240973119",
         "?"
        ]
       ],
       "shape": {
        "columns": 2,
        "rows": 17
       }
      },
      "text/html": [
       "<div>\n",
       "<style scoped>\n",
       "    .dataframe tbody tr th:only-of-type {\n",
       "        vertical-align: middle;\n",
       "    }\n",
       "\n",
       "    .dataframe tbody tr th {\n",
       "        vertical-align: top;\n",
       "    }\n",
       "\n",
       "    .dataframe thead th {\n",
       "        text-align: right;\n",
       "    }\n",
       "</style>\n",
       "<table border=\"1\" class=\"dataframe\">\n",
       "  <thead>\n",
       "    <tr style=\"text-align: right;\">\n",
       "      <th></th>\n",
       "      <th>url</th>\n",
       "      <th>comment_text</th>\n",
       "    </tr>\n",
       "  </thead>\n",
       "  <tbody>\n",
       "    <tr>\n",
       "      <th>0</th>\n",
       "      <td>https://www.facebook.com/100064878600431/posts...</td>\n",
       "      <td>❤️</td>\n",
       "    </tr>\n",
       "    <tr>\n",
       "      <th>8</th>\n",
       "      <td>https://www.facebook.com/100064878600431/posts...</td>\n",
       "      <td>Mua laptop</td>\n",
       "    </tr>\n",
       "    <tr>\n",
       "      <th>9</th>\n",
       "      <td>https://www.facebook.com/100064878600431/posts...</td>\n",
       "      <td>Mua laptop</td>\n",
       "    </tr>\n",
       "    <tr>\n",
       "      <th>12</th>\n",
       "      <td>https://www.facebook.com/100064878600431/posts...</td>\n",
       "      <td>❤️</td>\n",
       "    </tr>\n",
       "    <tr>\n",
       "      <th>16</th>\n",
       "      <td>https://www.facebook.com/100064878600431/posts...</td>\n",
       "      <td>❤️</td>\n",
       "    </tr>\n",
       "    <tr>\n",
       "      <th>22</th>\n",
       "      <td>https://www.facebook.com/100064878600431/posts...</td>\n",
       "      <td>xinn chàoo</td>\n",
       "    </tr>\n",
       "    <tr>\n",
       "      <th>23</th>\n",
       "      <td>https://www.facebook.com/100064878600431/posts...</td>\n",
       "      <td>xinn chàoo</td>\n",
       "    </tr>\n",
       "    <tr>\n",
       "      <th>28</th>\n",
       "      <td>https://www.facebook.com/100064878600431/posts...</td>\n",
       "      <td>Mua laptop</td>\n",
       "    </tr>\n",
       "    <tr>\n",
       "      <th>29</th>\n",
       "      <td>https://www.facebook.com/100064878600431/posts...</td>\n",
       "      <td>Mua laptop</td>\n",
       "    </tr>\n",
       "    <tr>\n",
       "      <th>43</th>\n",
       "      <td>https://www.facebook.com/100064878600431/posts...</td>\n",
       "      <td>Mua laptop</td>\n",
       "    </tr>\n",
       "    <tr>\n",
       "      <th>44</th>\n",
       "      <td>https://www.facebook.com/100064878600431/posts...</td>\n",
       "      <td>Mua laptop</td>\n",
       "    </tr>\n",
       "    <tr>\n",
       "      <th>58</th>\n",
       "      <td>https://www.facebook.com/100064878600431/posts...</td>\n",
       "      <td>Rất tuyệt vời</td>\n",
       "    </tr>\n",
       "    <tr>\n",
       "      <th>59</th>\n",
       "      <td>https://www.facebook.com/100064878600431/posts...</td>\n",
       "      <td>Rất tuyệt vời</td>\n",
       "    </tr>\n",
       "    <tr>\n",
       "      <th>100</th>\n",
       "      <td>https://www.facebook.com/100064878600431/posts...</td>\n",
       "      <td>.</td>\n",
       "    </tr>\n",
       "    <tr>\n",
       "      <th>125</th>\n",
       "      <td>https://www.facebook.com/100064878600431/posts...</td>\n",
       "      <td>.</td>\n",
       "    </tr>\n",
       "    <tr>\n",
       "      <th>272</th>\n",
       "      <td>https://www.facebook.com/100064878600431/posts...</td>\n",
       "      <td>?</td>\n",
       "    </tr>\n",
       "    <tr>\n",
       "      <th>326</th>\n",
       "      <td>https://www.facebook.com/100064878600431/posts...</td>\n",
       "      <td>?</td>\n",
       "    </tr>\n",
       "  </tbody>\n",
       "</table>\n",
       "</div>"
      ],
      "text/plain": [
       "                                                   url   comment_text\n",
       "0    https://www.facebook.com/100064878600431/posts...             ❤️\n",
       "8    https://www.facebook.com/100064878600431/posts...     Mua laptop\n",
       "9    https://www.facebook.com/100064878600431/posts...     Mua laptop\n",
       "12   https://www.facebook.com/100064878600431/posts...             ❤️\n",
       "16   https://www.facebook.com/100064878600431/posts...             ❤️\n",
       "22   https://www.facebook.com/100064878600431/posts...     xinn chàoo\n",
       "23   https://www.facebook.com/100064878600431/posts...     xinn chàoo\n",
       "28   https://www.facebook.com/100064878600431/posts...     Mua laptop\n",
       "29   https://www.facebook.com/100064878600431/posts...     Mua laptop\n",
       "43   https://www.facebook.com/100064878600431/posts...     Mua laptop\n",
       "44   https://www.facebook.com/100064878600431/posts...     Mua laptop\n",
       "58   https://www.facebook.com/100064878600431/posts...  Rất tuyệt vời\n",
       "59   https://www.facebook.com/100064878600431/posts...  Rất tuyệt vời\n",
       "100  https://www.facebook.com/100064878600431/posts...              .\n",
       "125  https://www.facebook.com/100064878600431/posts...              .\n",
       "272  https://www.facebook.com/100064878600431/posts...              ?\n",
       "326  https://www.facebook.com/100064878600431/posts...              ?"
      ]
     },
     "execution_count": 85,
     "metadata": {},
     "output_type": "execute_result"
    }
   ],
   "source": [
    "df_comments[df_comments.duplicated(keep=False)]"
   ]
  },
  {
   "cell_type": "code",
   "execution_count": 86,
   "id": "5febd7a7",
   "metadata": {},
   "outputs": [
    {
     "data": {
      "application/vnd.microsoft.datawrangler.viewer.v0+json": {
       "columns": [
        {
         "name": "index",
         "rawType": "int64",
         "type": "integer"
        },
        {
         "name": "url",
         "rawType": "object",
         "type": "string"
        },
        {
         "name": "comment_text",
         "rawType": "object",
         "type": "string"
        }
       ],
       "ref": "8fd7d243-8258-49d4-8149-a9bc4f6f54bb",
       "rows": [
        [
         "0",
         "https://www.facebook.com/100064878600431/posts/1147451870760756",
         " ❤️"
        ],
        [
         "1",
         "https://www.facebook.com/100064878600431/posts/1147451870760756",
         "Rất tuyệt vời"
        ],
        [
         "2",
         "https://www.facebook.com/100064878600431/posts/1147451870760756",
         "Em xin chúc anh mạnh khỏe vui vẻ thành công"
        ],
        [
         "3",
         "https://www.facebook.com/100064878600431/posts/1147451870760756",
         "Em xin anh chị bỏ qua giúp em"
        ],
        [
         "4",
         "https://www.facebook.com/100064878600431/posts/1147451870760756",
         "Em xin cảm ơn mến Đức"
        ],
        [
         "5",
         "https://www.facebook.com/100064878600431/posts/1147451870760756",
         "36 16 56 96. Dem xac mai moi san . DATA ? xac. Liem giay tao nhe xac mai moi san."
        ],
        [
         "6",
         "https://www.facebook.com/100064878600431/posts/1147451870760756",
         "Iphone 14prm"
        ],
        [
         "7",
         "https://www.facebook.com/100064878600431/posts/1147451870760756",
         "Hi"
        ],
        [
         "8",
         "https://www.facebook.com/100064878600431/posts/1147451870760756",
         "Mua laptop"
        ],
        [
         "10",
         "https://www.facebook.com/100064878600431/posts/1147451870760756",
         "Ko thêm chữ còn sau chữ “mà” đc à"
        ],
        [
         "11",
         "https://www.facebook.com/100064878600431/posts/1147451870760756",
         "Tự hào về bạn quá, cố gắng phát huy nhé!"
        ],
        [
         "13",
         "https://www.facebook.com/100064878600431/posts/1147451870760756",
         " 👍"
        ],
        [
         "14",
         "https://www.facebook.com/100064878600431/posts/1147451870760756",
         "https://vt.tiktok.com/ZSkjuEWyq/"
        ],
        [
         "15",
         "https://www.facebook.com/100064878600431/posts/1147451870760756",
         "Mọi chuyện rồi sẽ ổn, đừng lo quá!"
        ],
        [
         "17",
         "https://www.facebook.com/100064878600431/posts/1147451870760756",
         " 🫶 🫶 🫶"
        ],
        [
         "18",
         "https://www.facebook.com/100064878600431/posts/1147451870760756",
         "xin chào"
        ],
        [
         "19",
         "https://www.facebook.com/100064878600431/posts/1147451870760756",
         "Xac ? Data ?"
        ],
        [
         "20",
         "https://www.facebook.com/100064878600431/posts/1147451870760756",
         "hello"
        ],
        [
         "21",
         "https://www.facebook.com/100064878600431/posts/1147451870760756",
         "Tt"
        ],
        [
         "22",
         "https://www.facebook.com/100064878600431/posts/1147451870760756",
         "xinn chàoo"
        ],
        [
         "24",
         "https://www.facebook.com/100064878600431/posts/1147451870760756",
         "Ok"
        ],
        [
         "25",
         "https://www.facebook.com/100064878600431/posts/1147451870760756",
         "\"Must-have item\" được săn lùng nhiều nhất! Chính là [tai nghe Airpods Pro rep 1:1]: https://vt.tiktok.com/ZSk1Hp6Jc/ 👍"
        ],
        [
         "26",
         "https://www.facebook.com/100064878600431/posts/1147436614095615",
         " ❤️"
        ],
        [
         "27",
         "https://www.facebook.com/100064878600431/posts/1147436614095615",
         "Rất tuyệt vời"
        ],
        [
         "28",
         "https://www.facebook.com/100064878600431/posts/1147436614095615",
         "Mua laptop"
        ],
        [
         "30",
         "https://www.facebook.com/100064878600431/posts/1147436614095615",
         "hj"
        ],
        [
         "31",
         "https://www.facebook.com/100064878600431/posts/1147436614095615",
         "hello"
        ],
        [
         "32",
         "https://www.facebook.com/100064878600431/posts/1147436614095615",
         "Ok"
        ],
        [
         "33",
         "https://www.facebook.com/100064878600431/posts/1147436614095615",
         "woww"
        ],
        [
         "34",
         "https://www.facebook.com/100064878600431/posts/1147413360764607",
         "Đổi content rồi à :)) nhưng vẫn vote đuổi việc team content, team mkt nhé. Tập đoàn lớn mà sao content vcll"
        ],
        [
         "35",
         "https://www.facebook.com/100064878600431/posts/1147413360764607",
         "10 đỉm cho team vì biết nghe lời 🤣"
        ],
        [
         "36",
         "https://www.facebook.com/100064878600431/posts/1147413360764607",
         "Ủa sao hôm trước nói không bán, làm đi đồn quá trời quá đất"
        ],
        [
         "37",
         "https://www.facebook.com/100064878600431/posts/1147413360764607",
         "Rất tuyệt vời"
        ],
        [
         "38",
         "https://www.facebook.com/100064878600431/posts/1147413360764607",
         "Túm lại là bán cái gì"
        ],
        [
         "39",
         "https://www.facebook.com/100064878600431/posts/1147413360764607",
         "content thông minh hơn rồi đấy ad 😃"
        ],
        [
         "40",
         "https://www.facebook.com/100064878600431/posts/1147413360764607",
         "Laptop ko có sẵn ở Hcm, ship ở tỉnh xa tới giờ là 4 ngày rồi chưa tới, tính sát nút là 6 ngày mới chịu giao à, vận chuyển tệ thật sự"
        ],
        [
         "41",
         "https://www.facebook.com/100064878600431/posts/1147413360764607",
         "Xin gia laptop 9990000"
        ],
        [
         "42",
         "https://www.facebook.com/100064878600431/posts/1147413360764607",
         "Ok"
        ],
        [
         "43",
         "https://www.facebook.com/100064878600431/posts/1147413360764607",
         "Mua laptop"
        ],
        [
         "45",
         "https://www.facebook.com/100064878600431/posts/1147413360764607",
         "Ib em tư vấn với ạ, e nhắn tin shop k được"
        ],
        [
         "46",
         "https://www.facebook.com/100064878600431/posts/1147413360764607",
         "Tưởng thế giới di động không chỉ bán laptop, mà còn bán cả điện thoại 🤣"
        ],
        [
         "47",
         "https://www.facebook.com/100064878600431/posts/1147413360764607",
         "TGDD không chỉ bán laptop mà còn bán content cho mấy hãng khác đu theo :)))"
        ],
        [
         "48",
         "https://www.facebook.com/100064878600431/posts/1147413360764607",
         "Ê nói nghe nè, ghi thêm chữ “còn” bị tam tai hả?"
        ],
        [
         "49",
         "https://www.facebook.com/100064878600431/posts/1147413360764607",
         "Nhắm làm content mà ko rành Tiếng Việt thì dẹp nghỉ đi cha, rồi anh chị nào duyệt content đợt này thì coi lại nha 🙂"
        ],
        [
         "50",
         "https://www.facebook.com/100064878600431/posts/1147413360764607",
         "Bớt n .g .u rồi đó"
        ],
        [
         "51",
         "https://www.facebook.com/100064878600431/posts/1147413360764607",
         "Thấy khổ ko, lên cái content chi mà phải đăng lại bài content khác để ng dùng tránh nhầm lẫn 😂"
        ],
        [
         "52",
         "https://www.facebook.com/100064878600431/posts/1147413360764607",
         "Nhảm và nhạt thật sự 🤣 🤣 🤣"
        ],
        [
         "53",
         "https://www.facebook.com/100064878600431/posts/1147413360764607",
         "Ủa bữa thông báo từ ngày 1/6 không bán laptop nữa mà ad"
        ],
        [
         "54",
         "https://www.facebook.com/100064878600431/posts/1147413360764607",
         "Bữa ra kiếm con macbook mà hem có thặc là thất zọng 🤣"
        ],
        [
         "55",
         "https://www.facebook.com/100064878600431/posts/1147413360764607",
         "Ủa chứ bữa trước nói không bán nữa mà"
        ]
       ],
       "shape": {
        "columns": 2,
        "rows": 406
       }
      },
      "text/html": [
       "<div>\n",
       "<style scoped>\n",
       "    .dataframe tbody tr th:only-of-type {\n",
       "        vertical-align: middle;\n",
       "    }\n",
       "\n",
       "    .dataframe tbody tr th {\n",
       "        vertical-align: top;\n",
       "    }\n",
       "\n",
       "    .dataframe thead th {\n",
       "        text-align: right;\n",
       "    }\n",
       "</style>\n",
       "<table border=\"1\" class=\"dataframe\">\n",
       "  <thead>\n",
       "    <tr style=\"text-align: right;\">\n",
       "      <th></th>\n",
       "      <th>url</th>\n",
       "      <th>comment_text</th>\n",
       "    </tr>\n",
       "  </thead>\n",
       "  <tbody>\n",
       "    <tr>\n",
       "      <th>0</th>\n",
       "      <td>https://www.facebook.com/100064878600431/posts...</td>\n",
       "      <td>❤️</td>\n",
       "    </tr>\n",
       "    <tr>\n",
       "      <th>1</th>\n",
       "      <td>https://www.facebook.com/100064878600431/posts...</td>\n",
       "      <td>Rất tuyệt vời</td>\n",
       "    </tr>\n",
       "    <tr>\n",
       "      <th>2</th>\n",
       "      <td>https://www.facebook.com/100064878600431/posts...</td>\n",
       "      <td>Em xin chúc anh mạnh khỏe vui vẻ thành công</td>\n",
       "    </tr>\n",
       "    <tr>\n",
       "      <th>3</th>\n",
       "      <td>https://www.facebook.com/100064878600431/posts...</td>\n",
       "      <td>Em xin anh chị bỏ qua giúp em</td>\n",
       "    </tr>\n",
       "    <tr>\n",
       "      <th>4</th>\n",
       "      <td>https://www.facebook.com/100064878600431/posts...</td>\n",
       "      <td>Em xin cảm ơn mến Đức</td>\n",
       "    </tr>\n",
       "    <tr>\n",
       "      <th>...</th>\n",
       "      <td>...</td>\n",
       "      <td>...</td>\n",
       "    </tr>\n",
       "    <tr>\n",
       "      <th>410</th>\n",
       "      <td>https://www.facebook.com/100064878600431/posts...</td>\n",
       "      <td>Hết ý tưởng r à ad 🤣</td>\n",
       "    </tr>\n",
       "    <tr>\n",
       "      <th>411</th>\n",
       "      <td>https://www.facebook.com/100064878600431/posts...</td>\n",
       "      <td>À nay Tgdđ không bán laptop nữa, ae chuyển qua...</td>\n",
       "    </tr>\n",
       "    <tr>\n",
       "      <th>412</th>\n",
       "      <td>https://www.facebook.com/100064878600431/posts...</td>\n",
       "      <td>😀 😀</td>\n",
       "    </tr>\n",
       "    <tr>\n",
       "      <th>413</th>\n",
       "      <td>https://www.facebook.com/100064878600431/posts...</td>\n",
       "      <td>❤️</td>\n",
       "    </tr>\n",
       "    <tr>\n",
       "      <th>414</th>\n",
       "      <td>https://www.facebook.com/100064878600431/posts...</td>\n",
       "      <td>Không bán thì thôi, thiếu gì chỗ mua 🤨</td>\n",
       "    </tr>\n",
       "  </tbody>\n",
       "</table>\n",
       "<p>406 rows × 2 columns</p>\n",
       "</div>"
      ],
      "text/plain": [
       "                                                   url  \\\n",
       "0    https://www.facebook.com/100064878600431/posts...   \n",
       "1    https://www.facebook.com/100064878600431/posts...   \n",
       "2    https://www.facebook.com/100064878600431/posts...   \n",
       "3    https://www.facebook.com/100064878600431/posts...   \n",
       "4    https://www.facebook.com/100064878600431/posts...   \n",
       "..                                                 ...   \n",
       "410  https://www.facebook.com/100064878600431/posts...   \n",
       "411  https://www.facebook.com/100064878600431/posts...   \n",
       "412  https://www.facebook.com/100064878600431/posts...   \n",
       "413  https://www.facebook.com/100064878600431/posts...   \n",
       "414  https://www.facebook.com/100064878600431/posts...   \n",
       "\n",
       "                                          comment_text  \n",
       "0                                                   ❤️  \n",
       "1                                        Rất tuyệt vời  \n",
       "2          Em xin chúc anh mạnh khỏe vui vẻ thành công  \n",
       "3                        Em xin anh chị bỏ qua giúp em  \n",
       "4                                Em xin cảm ơn mến Đức  \n",
       "..                                                 ...  \n",
       "410                               Hết ý tưởng r à ad 🤣  \n",
       "411  À nay Tgdđ không bán laptop nữa, ae chuyển qua...  \n",
       "412                                                😀 😀  \n",
       "413                                                 ❤️  \n",
       "414             Không bán thì thôi, thiếu gì chỗ mua 🤨  \n",
       "\n",
       "[406 rows x 2 columns]"
      ]
     },
     "execution_count": 86,
     "metadata": {},
     "output_type": "execute_result"
    }
   ],
   "source": [
    "df_comments = df_comments.drop_duplicates(subset=['url', 'comment_text'])\n",
    "df_comments\n"
   ]
  },
  {
   "cell_type": "code",
   "execution_count": 87,
   "id": "52a30d76",
   "metadata": {},
   "outputs": [
    {
     "data": {
      "application/vnd.microsoft.datawrangler.viewer.v0+json": {
       "columns": [
        {
         "name": "index",
         "rawType": "int64",
         "type": "integer"
        },
        {
         "name": "url",
         "rawType": "object",
         "type": "string"
        },
        {
         "name": "comment_text",
         "rawType": "object",
         "type": "string"
        },
        {
         "name": "comment_text_remove_emojis",
         "rawType": "object",
         "type": "string"
        }
       ],
       "ref": "e9f6491b-a749-49ee-9f8d-5c5e7ca114fc",
       "rows": [
        [
         "0",
         "https://www.facebook.com/100064878600431/posts/1147451870760756",
         " ❤️",
         " "
        ],
        [
         "1",
         "https://www.facebook.com/100064878600431/posts/1147451870760756",
         "Rất tuyệt vời",
         "Rất tuyệt vời"
        ],
        [
         "2",
         "https://www.facebook.com/100064878600431/posts/1147451870760756",
         "Em xin chúc anh mạnh khỏe vui vẻ thành công",
         "Em xin chúc anh mạnh khỏe vui vẻ thành công"
        ],
        [
         "3",
         "https://www.facebook.com/100064878600431/posts/1147451870760756",
         "Em xin anh chị bỏ qua giúp em",
         "Em xin anh chị bỏ qua giúp em"
        ],
        [
         "4",
         "https://www.facebook.com/100064878600431/posts/1147451870760756",
         "Em xin cảm ơn mến Đức",
         "Em xin cảm ơn mến Đức"
        ],
        [
         "5",
         "https://www.facebook.com/100064878600431/posts/1147451870760756",
         "36 16 56 96. Dem xac mai moi san . DATA ? xac. Liem giay tao nhe xac mai moi san.",
         "36 16 56 96. Dem xac mai moi san . DATA ? xac. Liem giay tao nhe xac mai moi san."
        ],
        [
         "6",
         "https://www.facebook.com/100064878600431/posts/1147451870760756",
         "Iphone 14prm",
         "Iphone 14prm"
        ],
        [
         "7",
         "https://www.facebook.com/100064878600431/posts/1147451870760756",
         "Hi",
         "Hi"
        ],
        [
         "8",
         "https://www.facebook.com/100064878600431/posts/1147451870760756",
         "Mua laptop",
         "Mua laptop"
        ],
        [
         "10",
         "https://www.facebook.com/100064878600431/posts/1147451870760756",
         "Ko thêm chữ còn sau chữ “mà” đc à",
         "Ko thêm chữ còn sau chữ “mà” đc à"
        ],
        [
         "11",
         "https://www.facebook.com/100064878600431/posts/1147451870760756",
         "Tự hào về bạn quá, cố gắng phát huy nhé!",
         "Tự hào về bạn quá, cố gắng phát huy nhé!"
        ],
        [
         "13",
         "https://www.facebook.com/100064878600431/posts/1147451870760756",
         " 👍",
         " "
        ],
        [
         "14",
         "https://www.facebook.com/100064878600431/posts/1147451870760756",
         "https://vt.tiktok.com/ZSkjuEWyq/",
         "https://vt.tiktok.com/ZSkjuEWyq/"
        ],
        [
         "15",
         "https://www.facebook.com/100064878600431/posts/1147451870760756",
         "Mọi chuyện rồi sẽ ổn, đừng lo quá!",
         "Mọi chuyện rồi sẽ ổn, đừng lo quá!"
        ],
        [
         "17",
         "https://www.facebook.com/100064878600431/posts/1147451870760756",
         " 🫶 🫶 🫶",
         "   "
        ],
        [
         "18",
         "https://www.facebook.com/100064878600431/posts/1147451870760756",
         "xin chào",
         "xin chào"
        ],
        [
         "19",
         "https://www.facebook.com/100064878600431/posts/1147451870760756",
         "Xac ? Data ?",
         "Xac ? Data ?"
        ],
        [
         "20",
         "https://www.facebook.com/100064878600431/posts/1147451870760756",
         "hello",
         "hello"
        ],
        [
         "21",
         "https://www.facebook.com/100064878600431/posts/1147451870760756",
         "Tt",
         "Tt"
        ],
        [
         "22",
         "https://www.facebook.com/100064878600431/posts/1147451870760756",
         "xinn chàoo",
         "xinn chàoo"
        ],
        [
         "24",
         "https://www.facebook.com/100064878600431/posts/1147451870760756",
         "Ok",
         "Ok"
        ],
        [
         "25",
         "https://www.facebook.com/100064878600431/posts/1147451870760756",
         "\"Must-have item\" được săn lùng nhiều nhất! Chính là [tai nghe Airpods Pro rep 1:1]: https://vt.tiktok.com/ZSk1Hp6Jc/ 👍",
         "\"Must-have item\" được săn lùng nhiều nhất! Chính là [tai nghe Airpods Pro rep 1:1]: https://vt.tiktok.com/ZSk1Hp6Jc/ "
        ],
        [
         "26",
         "https://www.facebook.com/100064878600431/posts/1147436614095615",
         " ❤️",
         " "
        ],
        [
         "27",
         "https://www.facebook.com/100064878600431/posts/1147436614095615",
         "Rất tuyệt vời",
         "Rất tuyệt vời"
        ],
        [
         "28",
         "https://www.facebook.com/100064878600431/posts/1147436614095615",
         "Mua laptop",
         "Mua laptop"
        ],
        [
         "30",
         "https://www.facebook.com/100064878600431/posts/1147436614095615",
         "hj",
         "hj"
        ],
        [
         "31",
         "https://www.facebook.com/100064878600431/posts/1147436614095615",
         "hello",
         "hello"
        ],
        [
         "32",
         "https://www.facebook.com/100064878600431/posts/1147436614095615",
         "Ok",
         "Ok"
        ],
        [
         "33",
         "https://www.facebook.com/100064878600431/posts/1147436614095615",
         "woww",
         "woww"
        ],
        [
         "34",
         "https://www.facebook.com/100064878600431/posts/1147413360764607",
         "Đổi content rồi à :)) nhưng vẫn vote đuổi việc team content, team mkt nhé. Tập đoàn lớn mà sao content vcll",
         "Đổi content rồi à :)) nhưng vẫn vote đuổi việc team content, team mkt nhé. Tập đoàn lớn mà sao content vcll"
        ],
        [
         "35",
         "https://www.facebook.com/100064878600431/posts/1147413360764607",
         "10 đỉm cho team vì biết nghe lời 🤣",
         "10 đỉm cho team vì biết nghe lời "
        ],
        [
         "36",
         "https://www.facebook.com/100064878600431/posts/1147413360764607",
         "Ủa sao hôm trước nói không bán, làm đi đồn quá trời quá đất",
         "Ủa sao hôm trước nói không bán, làm đi đồn quá trời quá đất"
        ],
        [
         "37",
         "https://www.facebook.com/100064878600431/posts/1147413360764607",
         "Rất tuyệt vời",
         "Rất tuyệt vời"
        ],
        [
         "38",
         "https://www.facebook.com/100064878600431/posts/1147413360764607",
         "Túm lại là bán cái gì",
         "Túm lại là bán cái gì"
        ],
        [
         "39",
         "https://www.facebook.com/100064878600431/posts/1147413360764607",
         "content thông minh hơn rồi đấy ad 😃",
         "content thông minh hơn rồi đấy ad "
        ],
        [
         "40",
         "https://www.facebook.com/100064878600431/posts/1147413360764607",
         "Laptop ko có sẵn ở Hcm, ship ở tỉnh xa tới giờ là 4 ngày rồi chưa tới, tính sát nút là 6 ngày mới chịu giao à, vận chuyển tệ thật sự",
         "Laptop ko có sẵn ở Hcm, ship ở tỉnh xa tới giờ là 4 ngày rồi chưa tới, tính sát nút là 6 ngày mới chịu giao à, vận chuyển tệ thật sự"
        ],
        [
         "41",
         "https://www.facebook.com/100064878600431/posts/1147413360764607",
         "Xin gia laptop 9990000",
         "Xin gia laptop 9990000"
        ],
        [
         "42",
         "https://www.facebook.com/100064878600431/posts/1147413360764607",
         "Ok",
         "Ok"
        ],
        [
         "43",
         "https://www.facebook.com/100064878600431/posts/1147413360764607",
         "Mua laptop",
         "Mua laptop"
        ],
        [
         "45",
         "https://www.facebook.com/100064878600431/posts/1147413360764607",
         "Ib em tư vấn với ạ, e nhắn tin shop k được",
         "Ib em tư vấn với ạ, e nhắn tin shop k được"
        ],
        [
         "46",
         "https://www.facebook.com/100064878600431/posts/1147413360764607",
         "Tưởng thế giới di động không chỉ bán laptop, mà còn bán cả điện thoại 🤣",
         "Tưởng thế giới di động không chỉ bán laptop, mà còn bán cả điện thoại "
        ],
        [
         "47",
         "https://www.facebook.com/100064878600431/posts/1147413360764607",
         "TGDD không chỉ bán laptop mà còn bán content cho mấy hãng khác đu theo :)))",
         "TGDD không chỉ bán laptop mà còn bán content cho mấy hãng khác đu theo :)))"
        ],
        [
         "48",
         "https://www.facebook.com/100064878600431/posts/1147413360764607",
         "Ê nói nghe nè, ghi thêm chữ “còn” bị tam tai hả?",
         "Ê nói nghe nè, ghi thêm chữ “còn” bị tam tai hả?"
        ],
        [
         "49",
         "https://www.facebook.com/100064878600431/posts/1147413360764607",
         "Nhắm làm content mà ko rành Tiếng Việt thì dẹp nghỉ đi cha, rồi anh chị nào duyệt content đợt này thì coi lại nha 🙂",
         "Nhắm làm content mà ko rành Tiếng Việt thì dẹp nghỉ đi cha, rồi anh chị nào duyệt content đợt này thì coi lại nha "
        ],
        [
         "50",
         "https://www.facebook.com/100064878600431/posts/1147413360764607",
         "Bớt n .g .u rồi đó",
         "Bớt n .g .u rồi đó"
        ],
        [
         "51",
         "https://www.facebook.com/100064878600431/posts/1147413360764607",
         "Thấy khổ ko, lên cái content chi mà phải đăng lại bài content khác để ng dùng tránh nhầm lẫn 😂",
         "Thấy khổ ko, lên cái content chi mà phải đăng lại bài content khác để ng dùng tránh nhầm lẫn "
        ],
        [
         "52",
         "https://www.facebook.com/100064878600431/posts/1147413360764607",
         "Nhảm và nhạt thật sự 🤣 🤣 🤣",
         "Nhảm và nhạt thật sự   "
        ],
        [
         "53",
         "https://www.facebook.com/100064878600431/posts/1147413360764607",
         "Ủa bữa thông báo từ ngày 1/6 không bán laptop nữa mà ad",
         "Ủa bữa thông báo từ ngày 1/6 không bán laptop nữa mà ad"
        ],
        [
         "54",
         "https://www.facebook.com/100064878600431/posts/1147413360764607",
         "Bữa ra kiếm con macbook mà hem có thặc là thất zọng 🤣",
         "Bữa ra kiếm con macbook mà hem có thặc là thất zọng "
        ],
        [
         "55",
         "https://www.facebook.com/100064878600431/posts/1147413360764607",
         "Ủa chứ bữa trước nói không bán nữa mà",
         "Ủa chứ bữa trước nói không bán nữa mà"
        ]
       ],
       "shape": {
        "columns": 3,
        "rows": 406
       }
      },
      "text/html": [
       "<div>\n",
       "<style scoped>\n",
       "    .dataframe tbody tr th:only-of-type {\n",
       "        vertical-align: middle;\n",
       "    }\n",
       "\n",
       "    .dataframe tbody tr th {\n",
       "        vertical-align: top;\n",
       "    }\n",
       "\n",
       "    .dataframe thead th {\n",
       "        text-align: right;\n",
       "    }\n",
       "</style>\n",
       "<table border=\"1\" class=\"dataframe\">\n",
       "  <thead>\n",
       "    <tr style=\"text-align: right;\">\n",
       "      <th></th>\n",
       "      <th>url</th>\n",
       "      <th>comment_text</th>\n",
       "      <th>comment_text_remove_emojis</th>\n",
       "    </tr>\n",
       "  </thead>\n",
       "  <tbody>\n",
       "    <tr>\n",
       "      <th>0</th>\n",
       "      <td>https://www.facebook.com/100064878600431/posts...</td>\n",
       "      <td>❤️</td>\n",
       "      <td></td>\n",
       "    </tr>\n",
       "    <tr>\n",
       "      <th>1</th>\n",
       "      <td>https://www.facebook.com/100064878600431/posts...</td>\n",
       "      <td>Rất tuyệt vời</td>\n",
       "      <td>Rất tuyệt vời</td>\n",
       "    </tr>\n",
       "    <tr>\n",
       "      <th>2</th>\n",
       "      <td>https://www.facebook.com/100064878600431/posts...</td>\n",
       "      <td>Em xin chúc anh mạnh khỏe vui vẻ thành công</td>\n",
       "      <td>Em xin chúc anh mạnh khỏe vui vẻ thành công</td>\n",
       "    </tr>\n",
       "    <tr>\n",
       "      <th>3</th>\n",
       "      <td>https://www.facebook.com/100064878600431/posts...</td>\n",
       "      <td>Em xin anh chị bỏ qua giúp em</td>\n",
       "      <td>Em xin anh chị bỏ qua giúp em</td>\n",
       "    </tr>\n",
       "    <tr>\n",
       "      <th>4</th>\n",
       "      <td>https://www.facebook.com/100064878600431/posts...</td>\n",
       "      <td>Em xin cảm ơn mến Đức</td>\n",
       "      <td>Em xin cảm ơn mến Đức</td>\n",
       "    </tr>\n",
       "    <tr>\n",
       "      <th>...</th>\n",
       "      <td>...</td>\n",
       "      <td>...</td>\n",
       "      <td>...</td>\n",
       "    </tr>\n",
       "    <tr>\n",
       "      <th>410</th>\n",
       "      <td>https://www.facebook.com/100064878600431/posts...</td>\n",
       "      <td>Hết ý tưởng r à ad 🤣</td>\n",
       "      <td>Hết ý tưởng r à ad</td>\n",
       "    </tr>\n",
       "    <tr>\n",
       "      <th>411</th>\n",
       "      <td>https://www.facebook.com/100064878600431/posts...</td>\n",
       "      <td>À nay Tgdđ không bán laptop nữa, ae chuyển qua...</td>\n",
       "      <td>À nay Tgdđ không bán laptop nữa, ae chuyển qua...</td>\n",
       "    </tr>\n",
       "    <tr>\n",
       "      <th>412</th>\n",
       "      <td>https://www.facebook.com/100064878600431/posts...</td>\n",
       "      <td>😀 😀</td>\n",
       "      <td></td>\n",
       "    </tr>\n",
       "    <tr>\n",
       "      <th>413</th>\n",
       "      <td>https://www.facebook.com/100064878600431/posts...</td>\n",
       "      <td>❤️</td>\n",
       "      <td></td>\n",
       "    </tr>\n",
       "    <tr>\n",
       "      <th>414</th>\n",
       "      <td>https://www.facebook.com/100064878600431/posts...</td>\n",
       "      <td>Không bán thì thôi, thiếu gì chỗ mua 🤨</td>\n",
       "      <td>Không bán thì thôi, thiếu gì chỗ mua</td>\n",
       "    </tr>\n",
       "  </tbody>\n",
       "</table>\n",
       "<p>406 rows × 3 columns</p>\n",
       "</div>"
      ],
      "text/plain": [
       "                                                   url  \\\n",
       "0    https://www.facebook.com/100064878600431/posts...   \n",
       "1    https://www.facebook.com/100064878600431/posts...   \n",
       "2    https://www.facebook.com/100064878600431/posts...   \n",
       "3    https://www.facebook.com/100064878600431/posts...   \n",
       "4    https://www.facebook.com/100064878600431/posts...   \n",
       "..                                                 ...   \n",
       "410  https://www.facebook.com/100064878600431/posts...   \n",
       "411  https://www.facebook.com/100064878600431/posts...   \n",
       "412  https://www.facebook.com/100064878600431/posts...   \n",
       "413  https://www.facebook.com/100064878600431/posts...   \n",
       "414  https://www.facebook.com/100064878600431/posts...   \n",
       "\n",
       "                                          comment_text  \\\n",
       "0                                                   ❤️   \n",
       "1                                        Rất tuyệt vời   \n",
       "2          Em xin chúc anh mạnh khỏe vui vẻ thành công   \n",
       "3                        Em xin anh chị bỏ qua giúp em   \n",
       "4                                Em xin cảm ơn mến Đức   \n",
       "..                                                 ...   \n",
       "410                               Hết ý tưởng r à ad 🤣   \n",
       "411  À nay Tgdđ không bán laptop nữa, ae chuyển qua...   \n",
       "412                                                😀 😀   \n",
       "413                                                 ❤️   \n",
       "414             Không bán thì thôi, thiếu gì chỗ mua 🤨   \n",
       "\n",
       "                            comment_text_remove_emojis  \n",
       "0                                                       \n",
       "1                                        Rất tuyệt vời  \n",
       "2          Em xin chúc anh mạnh khỏe vui vẻ thành công  \n",
       "3                        Em xin anh chị bỏ qua giúp em  \n",
       "4                                Em xin cảm ơn mến Đức  \n",
       "..                                                 ...  \n",
       "410                                Hết ý tưởng r à ad   \n",
       "411  À nay Tgdđ không bán laptop nữa, ae chuyển qua...  \n",
       "412                                                     \n",
       "413                                                     \n",
       "414              Không bán thì thôi, thiếu gì chỗ mua   \n",
       "\n",
       "[406 rows x 3 columns]"
      ]
     },
     "execution_count": 87,
     "metadata": {},
     "output_type": "execute_result"
    }
   ],
   "source": [
    "def remove_emojis_from_text(text):\n",
    "    return emoji.replace_emoji(text, replace='')\n",
    "\n",
    "df_comments = df_comments.copy()\n",
    "df_comments['comment_text_remove_emojis'] = df_comments['comment_text'].apply(remove_emojis_from_text)\n",
    "df_comments"
   ]
  },
  {
   "cell_type": "code",
   "execution_count": null,
   "id": "e6052b62",
   "metadata": {},
   "outputs": [],
   "source": [
    "df_comments.to_csv('../data/crawl/facebook_comments_cleaned.csv', index=False)"
   ]
  }
 ],
 "metadata": {
  "language_info": {
   "name": "python"
  }
 },
 "nbformat": 4,
 "nbformat_minor": 5
}
