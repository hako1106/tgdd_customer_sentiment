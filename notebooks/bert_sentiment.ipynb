{
 "cells": [
  {
   "cell_type": "code",
   "execution_count": null,
   "id": "44cdb87e",
   "metadata": {},
   "outputs": [],
   "source": [
    "import pandas as pd\n",
    "import torch\n",
    "import torch.nn.functional as F\n",
    "from torch.utils.data import Dataset, DataLoader\n",
    "from transformers import AutoTokenizer, AutoModelForSequenceClassification"
   ]
  },
  {
   "cell_type": "code",
   "execution_count": 2,
   "id": "c60fbced",
   "metadata": {},
   "outputs": [
    {
     "data": {
      "application/vnd.microsoft.datawrangler.viewer.v0+json": {
       "columns": [
        {
         "name": "index",
         "rawType": "int64",
         "type": "integer"
        },
        {
         "name": "url",
         "rawType": "object",
         "type": "string"
        },
        {
         "name": "comment_text",
         "rawType": "object",
         "type": "string"
        },
        {
         "name": "comment_text_remove_emojis",
         "rawType": "object",
         "type": "string"
        }
       ],
       "ref": "7c7ab740-0529-44be-a463-eb15310afeb2",
       "rows": [
        [
         "0",
         "https://www.facebook.com/100064878600431/posts/1147451870760756",
         " ❤️",
         " "
        ],
        [
         "1",
         "https://www.facebook.com/100064878600431/posts/1147451870760756",
         "Rất tuyệt vời",
         "Rất tuyệt vời"
        ],
        [
         "2",
         "https://www.facebook.com/100064878600431/posts/1147451870760756",
         "Em xin chúc anh mạnh khỏe vui vẻ thành công",
         "Em xin chúc anh mạnh khỏe vui vẻ thành công"
        ],
        [
         "3",
         "https://www.facebook.com/100064878600431/posts/1147451870760756",
         "Em xin anh chị bỏ qua giúp em",
         "Em xin anh chị bỏ qua giúp em"
        ],
        [
         "4",
         "https://www.facebook.com/100064878600431/posts/1147451870760756",
         "Em xin cảm ơn mến Đức",
         "Em xin cảm ơn mến Đức"
        ],
        [
         "5",
         "https://www.facebook.com/100064878600431/posts/1147451870760756",
         "36 16 56 96. Dem xac mai moi san . DATA ? xac. Liem giay tao nhe xac mai moi san.",
         "36 16 56 96. Dem xac mai moi san . DATA ? xac. Liem giay tao nhe xac mai moi san."
        ],
        [
         "6",
         "https://www.facebook.com/100064878600431/posts/1147451870760756",
         "Iphone 14prm",
         "Iphone 14prm"
        ],
        [
         "7",
         "https://www.facebook.com/100064878600431/posts/1147451870760756",
         "Hi",
         "Hi"
        ],
        [
         "8",
         "https://www.facebook.com/100064878600431/posts/1147451870760756",
         "Mua laptop",
         "Mua laptop"
        ],
        [
         "9",
         "https://www.facebook.com/100064878600431/posts/1147451870760756",
         "Ko thêm chữ còn sau chữ “mà” đc à",
         "Ko thêm chữ còn sau chữ “mà” đc à"
        ]
       ],
       "shape": {
        "columns": 3,
        "rows": 10
       }
      },
      "text/html": [
       "<div>\n",
       "<style scoped>\n",
       "    .dataframe tbody tr th:only-of-type {\n",
       "        vertical-align: middle;\n",
       "    }\n",
       "\n",
       "    .dataframe tbody tr th {\n",
       "        vertical-align: top;\n",
       "    }\n",
       "\n",
       "    .dataframe thead th {\n",
       "        text-align: right;\n",
       "    }\n",
       "</style>\n",
       "<table border=\"1\" class=\"dataframe\">\n",
       "  <thead>\n",
       "    <tr style=\"text-align: right;\">\n",
       "      <th></th>\n",
       "      <th>url</th>\n",
       "      <th>comment_text</th>\n",
       "      <th>comment_text_remove_emojis</th>\n",
       "    </tr>\n",
       "  </thead>\n",
       "  <tbody>\n",
       "    <tr>\n",
       "      <th>0</th>\n",
       "      <td>https://www.facebook.com/100064878600431/posts...</td>\n",
       "      <td>❤️</td>\n",
       "      <td></td>\n",
       "    </tr>\n",
       "    <tr>\n",
       "      <th>1</th>\n",
       "      <td>https://www.facebook.com/100064878600431/posts...</td>\n",
       "      <td>Rất tuyệt vời</td>\n",
       "      <td>Rất tuyệt vời</td>\n",
       "    </tr>\n",
       "    <tr>\n",
       "      <th>2</th>\n",
       "      <td>https://www.facebook.com/100064878600431/posts...</td>\n",
       "      <td>Em xin chúc anh mạnh khỏe vui vẻ thành công</td>\n",
       "      <td>Em xin chúc anh mạnh khỏe vui vẻ thành công</td>\n",
       "    </tr>\n",
       "    <tr>\n",
       "      <th>3</th>\n",
       "      <td>https://www.facebook.com/100064878600431/posts...</td>\n",
       "      <td>Em xin anh chị bỏ qua giúp em</td>\n",
       "      <td>Em xin anh chị bỏ qua giúp em</td>\n",
       "    </tr>\n",
       "    <tr>\n",
       "      <th>4</th>\n",
       "      <td>https://www.facebook.com/100064878600431/posts...</td>\n",
       "      <td>Em xin cảm ơn mến Đức</td>\n",
       "      <td>Em xin cảm ơn mến Đức</td>\n",
       "    </tr>\n",
       "    <tr>\n",
       "      <th>5</th>\n",
       "      <td>https://www.facebook.com/100064878600431/posts...</td>\n",
       "      <td>36 16 56 96. Dem xac mai moi san . DATA ? xac....</td>\n",
       "      <td>36 16 56 96. Dem xac mai moi san . DATA ? xac....</td>\n",
       "    </tr>\n",
       "    <tr>\n",
       "      <th>6</th>\n",
       "      <td>https://www.facebook.com/100064878600431/posts...</td>\n",
       "      <td>Iphone 14prm</td>\n",
       "      <td>Iphone 14prm</td>\n",
       "    </tr>\n",
       "    <tr>\n",
       "      <th>7</th>\n",
       "      <td>https://www.facebook.com/100064878600431/posts...</td>\n",
       "      <td>Hi</td>\n",
       "      <td>Hi</td>\n",
       "    </tr>\n",
       "    <tr>\n",
       "      <th>8</th>\n",
       "      <td>https://www.facebook.com/100064878600431/posts...</td>\n",
       "      <td>Mua laptop</td>\n",
       "      <td>Mua laptop</td>\n",
       "    </tr>\n",
       "    <tr>\n",
       "      <th>9</th>\n",
       "      <td>https://www.facebook.com/100064878600431/posts...</td>\n",
       "      <td>Ko thêm chữ còn sau chữ “mà” đc à</td>\n",
       "      <td>Ko thêm chữ còn sau chữ “mà” đc à</td>\n",
       "    </tr>\n",
       "  </tbody>\n",
       "</table>\n",
       "</div>"
      ],
      "text/plain": [
       "                                                 url  \\\n",
       "0  https://www.facebook.com/100064878600431/posts...   \n",
       "1  https://www.facebook.com/100064878600431/posts...   \n",
       "2  https://www.facebook.com/100064878600431/posts...   \n",
       "3  https://www.facebook.com/100064878600431/posts...   \n",
       "4  https://www.facebook.com/100064878600431/posts...   \n",
       "5  https://www.facebook.com/100064878600431/posts...   \n",
       "6  https://www.facebook.com/100064878600431/posts...   \n",
       "7  https://www.facebook.com/100064878600431/posts...   \n",
       "8  https://www.facebook.com/100064878600431/posts...   \n",
       "9  https://www.facebook.com/100064878600431/posts...   \n",
       "\n",
       "                                        comment_text  \\\n",
       "0                                                 ❤️   \n",
       "1                                      Rất tuyệt vời   \n",
       "2        Em xin chúc anh mạnh khỏe vui vẻ thành công   \n",
       "3                      Em xin anh chị bỏ qua giúp em   \n",
       "4                              Em xin cảm ơn mến Đức   \n",
       "5  36 16 56 96. Dem xac mai moi san . DATA ? xac....   \n",
       "6                                       Iphone 14prm   \n",
       "7                                                 Hi   \n",
       "8                                         Mua laptop   \n",
       "9                  Ko thêm chữ còn sau chữ “mà” đc à   \n",
       "\n",
       "                          comment_text_remove_emojis  \n",
       "0                                                     \n",
       "1                                      Rất tuyệt vời  \n",
       "2        Em xin chúc anh mạnh khỏe vui vẻ thành công  \n",
       "3                      Em xin anh chị bỏ qua giúp em  \n",
       "4                              Em xin cảm ơn mến Đức  \n",
       "5  36 16 56 96. Dem xac mai moi san . DATA ? xac....  \n",
       "6                                       Iphone 14prm  \n",
       "7                                                 Hi  \n",
       "8                                         Mua laptop  \n",
       "9                  Ko thêm chữ còn sau chữ “mà” đc à  "
      ]
     },
     "execution_count": 2,
     "metadata": {},
     "output_type": "execute_result"
    }
   ],
   "source": [
    "df = pd.read_csv('../data/processed/facebook_comments_cleaned.csv')\n",
    "df.head(10)"
   ]
  },
  {
   "cell_type": "code",
   "execution_count": 13,
   "id": "a1370551",
   "metadata": {},
   "outputs": [
    {
     "data": {
      "text/plain": [
       "RobertaForSequenceClassification(\n",
       "  (roberta): RobertaModel(\n",
       "    (embeddings): RobertaEmbeddings(\n",
       "      (word_embeddings): Embedding(64001, 768, padding_idx=1)\n",
       "      (position_embeddings): Embedding(258, 768, padding_idx=1)\n",
       "      (token_type_embeddings): Embedding(1, 768)\n",
       "      (LayerNorm): LayerNorm((768,), eps=1e-05, elementwise_affine=True)\n",
       "      (dropout): Dropout(p=0.1, inplace=False)\n",
       "    )\n",
       "    (encoder): RobertaEncoder(\n",
       "      (layer): ModuleList(\n",
       "        (0-11): 12 x RobertaLayer(\n",
       "          (attention): RobertaAttention(\n",
       "            (self): RobertaSdpaSelfAttention(\n",
       "              (query): Linear(in_features=768, out_features=768, bias=True)\n",
       "              (key): Linear(in_features=768, out_features=768, bias=True)\n",
       "              (value): Linear(in_features=768, out_features=768, bias=True)\n",
       "              (dropout): Dropout(p=0.1, inplace=False)\n",
       "            )\n",
       "            (output): RobertaSelfOutput(\n",
       "              (dense): Linear(in_features=768, out_features=768, bias=True)\n",
       "              (LayerNorm): LayerNorm((768,), eps=1e-05, elementwise_affine=True)\n",
       "              (dropout): Dropout(p=0.1, inplace=False)\n",
       "            )\n",
       "          )\n",
       "          (intermediate): RobertaIntermediate(\n",
       "            (dense): Linear(in_features=768, out_features=3072, bias=True)\n",
       "            (intermediate_act_fn): GELUActivation()\n",
       "          )\n",
       "          (output): RobertaOutput(\n",
       "            (dense): Linear(in_features=3072, out_features=768, bias=True)\n",
       "            (LayerNorm): LayerNorm((768,), eps=1e-05, elementwise_affine=True)\n",
       "            (dropout): Dropout(p=0.1, inplace=False)\n",
       "          )\n",
       "        )\n",
       "      )\n",
       "    )\n",
       "  )\n",
       "  (classifier): RobertaClassificationHead(\n",
       "    (dense): Linear(in_features=768, out_features=768, bias=True)\n",
       "    (dropout): Dropout(p=0.1, inplace=False)\n",
       "    (out_proj): Linear(in_features=768, out_features=3, bias=True)\n",
       "  )\n",
       ")"
      ]
     },
     "execution_count": 13,
     "metadata": {},
     "output_type": "execute_result"
    }
   ],
   "source": [
    "model_name = \"hieudinhpro/BERT_Sentiment_Vietnamese\"\n",
    "save_path = \"../models/bert_sentiment_vietnamese\"\n",
    "\n",
    "tokenizer = AutoTokenizer.from_pretrained(model_name)\n",
    "model = AutoModelForSequenceClassification.from_pretrained(model_name)\n",
    "\n",
    "tokenizer.save_pretrained(save_path)\n",
    "model.save_pretrained(save_path)\n",
    "\n",
    "device = torch.device(\"cuda\" if torch.cuda.is_available() else \"cpu\")\n",
    "model.to(device)\n",
    "model.eval()"
   ]
  },
  {
   "cell_type": "code",
   "execution_count": 4,
   "id": "9f6be907",
   "metadata": {},
   "outputs": [],
   "source": [
    "labels = ['negative', 'neutral', 'positive']\n",
    "\n",
    "class CommentDataset(Dataset):\n",
    "    def __init__(self, texts):\n",
    "        self.texts = texts\n",
    "\n",
    "    def __len__(self):\n",
    "        return len(self.texts)\n",
    "\n",
    "    def __getitem__(self, idx):\n",
    "        return self.texts[idx]\n",
    "\n",
    "def collate_batch(batch_texts):\n",
    "    return tokenizer(batch_texts, return_tensors=\"pt\", truncation=True, padding=True)"
   ]
  },
  {
   "cell_type": "code",
   "execution_count": 5,
   "id": "5573238f",
   "metadata": {},
   "outputs": [],
   "source": [
    "texts = df['comment_text_remove_emojis'].fillna(\"\").tolist()\n",
    "dataset = CommentDataset(texts)\n",
    "dataloader = DataLoader(dataset, batch_size=16, collate_fn=collate_batch)\n",
    "\n",
    "all_preds = []\n",
    "\n",
    "with torch.no_grad():\n",
    "    for batch in dataloader:\n",
    "        batch = {k: v.to(device) for k, v in batch.items()}\n",
    "        outputs = model(**batch)\n",
    "        probs = F.softmax(outputs.logits, dim=-1)\n",
    "        preds = torch.argmax(probs, dim=-1)\n",
    "        all_preds.extend(preds.cpu().tolist())"
   ]
  },
  {
   "cell_type": "code",
   "execution_count": 6,
   "id": "91e9a39d",
   "metadata": {},
   "outputs": [
    {
     "data": {
      "application/vnd.microsoft.datawrangler.viewer.v0+json": {
       "columns": [
        {
         "name": "index",
         "rawType": "int64",
         "type": "integer"
        },
        {
         "name": "comment_text_remove_emojis",
         "rawType": "object",
         "type": "string"
        },
        {
         "name": "sentiment",
         "rawType": "object",
         "type": "string"
        }
       ],
       "ref": "86bd0cc9-2784-48e5-b7fd-aa4f9f1d9a47",
       "rows": [
        [
         "0",
         " ",
         "neutral"
        ],
        [
         "1",
         "Rất tuyệt vời",
         "positive"
        ],
        [
         "2",
         "Em xin chúc anh mạnh khỏe vui vẻ thành công",
         "positive"
        ],
        [
         "3",
         "Em xin anh chị bỏ qua giúp em",
         "neutral"
        ],
        [
         "4",
         "Em xin cảm ơn mến Đức",
         "neutral"
        ],
        [
         "5",
         "36 16 56 96. Dem xac mai moi san . DATA ? xac. Liem giay tao nhe xac mai moi san.",
         "negative"
        ],
        [
         "6",
         "Iphone 14prm",
         "neutral"
        ],
        [
         "7",
         "Hi",
         "positive"
        ],
        [
         "8",
         "Mua laptop",
         "neutral"
        ],
        [
         "9",
         "Ko thêm chữ còn sau chữ “mà” đc à",
         "neutral"
        ],
        [
         "10",
         "Tự hào về bạn quá, cố gắng phát huy nhé!",
         "positive"
        ],
        [
         "11",
         " ",
         "neutral"
        ],
        [
         "12",
         "https://vt.tiktok.com/ZSkjuEWyq/",
         "neutral"
        ],
        [
         "13",
         "Mọi chuyện rồi sẽ ổn, đừng lo quá!",
         "neutral"
        ],
        [
         "14",
         "   ",
         "neutral"
        ],
        [
         "15",
         "xin chào",
         "neutral"
        ],
        [
         "16",
         "Xac ? Data ?",
         "neutral"
        ],
        [
         "17",
         "hello",
         "neutral"
        ],
        [
         "18",
         "Tt",
         "neutral"
        ],
        [
         "19",
         "xinn chàoo",
         "neutral"
        ],
        [
         "20",
         "Ok",
         "neutral"
        ],
        [
         "21",
         "\"Must-have item\" được săn lùng nhiều nhất! Chính là [tai nghe Airpods Pro rep 1:1]: https://vt.tiktok.com/ZSk1Hp6Jc/ ",
         "positive"
        ],
        [
         "22",
         " ",
         "neutral"
        ],
        [
         "23",
         "Rất tuyệt vời",
         "positive"
        ],
        [
         "24",
         "Mua laptop",
         "neutral"
        ],
        [
         "25",
         "hj",
         "neutral"
        ],
        [
         "26",
         "hello",
         "neutral"
        ],
        [
         "27",
         "Ok",
         "neutral"
        ],
        [
         "28",
         "woww",
         "neutral"
        ],
        [
         "29",
         "Đổi content rồi à :)) nhưng vẫn vote đuổi việc team content, team mkt nhé. Tập đoàn lớn mà sao content vcll",
         "negative"
        ],
        [
         "30",
         "10 đỉm cho team vì biết nghe lời ",
         "positive"
        ],
        [
         "31",
         "Ủa sao hôm trước nói không bán, làm đi đồn quá trời quá đất",
         "negative"
        ],
        [
         "32",
         "Rất tuyệt vời",
         "positive"
        ],
        [
         "33",
         "Túm lại là bán cái gì",
         "negative"
        ],
        [
         "34",
         "content thông minh hơn rồi đấy ad ",
         "negative"
        ],
        [
         "35",
         "Laptop ko có sẵn ở Hcm, ship ở tỉnh xa tới giờ là 4 ngày rồi chưa tới, tính sát nút là 6 ngày mới chịu giao à, vận chuyển tệ thật sự",
         "negative"
        ],
        [
         "36",
         "Xin gia laptop 9990000",
         "neutral"
        ],
        [
         "37",
         "Ok",
         "neutral"
        ],
        [
         "38",
         "Mua laptop",
         "neutral"
        ],
        [
         "39",
         "Ib em tư vấn với ạ, e nhắn tin shop k được",
         "neutral"
        ],
        [
         "40",
         "Tưởng thế giới di động không chỉ bán laptop, mà còn bán cả điện thoại ",
         "neutral"
        ],
        [
         "41",
         "TGDD không chỉ bán laptop mà còn bán content cho mấy hãng khác đu theo :)))",
         "negative"
        ],
        [
         "42",
         "Ê nói nghe nè, ghi thêm chữ “còn” bị tam tai hả?",
         "negative"
        ],
        [
         "43",
         "Nhắm làm content mà ko rành Tiếng Việt thì dẹp nghỉ đi cha, rồi anh chị nào duyệt content đợt này thì coi lại nha ",
         "negative"
        ],
        [
         "44",
         "Bớt n .g .u rồi đó",
         "neutral"
        ],
        [
         "45",
         "Thấy khổ ko, lên cái content chi mà phải đăng lại bài content khác để ng dùng tránh nhầm lẫn ",
         "negative"
        ],
        [
         "46",
         "Nhảm và nhạt thật sự   ",
         "negative"
        ],
        [
         "47",
         "Ủa bữa thông báo từ ngày 1/6 không bán laptop nữa mà ad",
         "negative"
        ],
        [
         "48",
         "Bữa ra kiếm con macbook mà hem có thặc là thất zọng ",
         "negative"
        ],
        [
         "49",
         "Ủa chứ bữa trước nói không bán nữa mà",
         "negative"
        ]
       ],
       "shape": {
        "columns": 2,
        "rows": 406
       }
      },
      "text/html": [
       "<div>\n",
       "<style scoped>\n",
       "    .dataframe tbody tr th:only-of-type {\n",
       "        vertical-align: middle;\n",
       "    }\n",
       "\n",
       "    .dataframe tbody tr th {\n",
       "        vertical-align: top;\n",
       "    }\n",
       "\n",
       "    .dataframe thead th {\n",
       "        text-align: right;\n",
       "    }\n",
       "</style>\n",
       "<table border=\"1\" class=\"dataframe\">\n",
       "  <thead>\n",
       "    <tr style=\"text-align: right;\">\n",
       "      <th></th>\n",
       "      <th>comment_text_remove_emojis</th>\n",
       "      <th>sentiment</th>\n",
       "    </tr>\n",
       "  </thead>\n",
       "  <tbody>\n",
       "    <tr>\n",
       "      <th>0</th>\n",
       "      <td></td>\n",
       "      <td>neutral</td>\n",
       "    </tr>\n",
       "    <tr>\n",
       "      <th>1</th>\n",
       "      <td>Rất tuyệt vời</td>\n",
       "      <td>positive</td>\n",
       "    </tr>\n",
       "    <tr>\n",
       "      <th>2</th>\n",
       "      <td>Em xin chúc anh mạnh khỏe vui vẻ thành công</td>\n",
       "      <td>positive</td>\n",
       "    </tr>\n",
       "    <tr>\n",
       "      <th>3</th>\n",
       "      <td>Em xin anh chị bỏ qua giúp em</td>\n",
       "      <td>neutral</td>\n",
       "    </tr>\n",
       "    <tr>\n",
       "      <th>4</th>\n",
       "      <td>Em xin cảm ơn mến Đức</td>\n",
       "      <td>neutral</td>\n",
       "    </tr>\n",
       "    <tr>\n",
       "      <th>...</th>\n",
       "      <td>...</td>\n",
       "      <td>...</td>\n",
       "    </tr>\n",
       "    <tr>\n",
       "      <th>401</th>\n",
       "      <td>Hết ý tưởng r à ad</td>\n",
       "      <td>positive</td>\n",
       "    </tr>\n",
       "    <tr>\n",
       "      <th>402</th>\n",
       "      <td>À nay Tgdđ không bán laptop nữa, ae chuyển qua...</td>\n",
       "      <td>negative</td>\n",
       "    </tr>\n",
       "    <tr>\n",
       "      <th>403</th>\n",
       "      <td></td>\n",
       "      <td>neutral</td>\n",
       "    </tr>\n",
       "    <tr>\n",
       "      <th>404</th>\n",
       "      <td></td>\n",
       "      <td>neutral</td>\n",
       "    </tr>\n",
       "    <tr>\n",
       "      <th>405</th>\n",
       "      <td>Không bán thì thôi, thiếu gì chỗ mua</td>\n",
       "      <td>negative</td>\n",
       "    </tr>\n",
       "  </tbody>\n",
       "</table>\n",
       "<p>406 rows × 2 columns</p>\n",
       "</div>"
      ],
      "text/plain": [
       "                            comment_text_remove_emojis sentiment\n",
       "0                                                        neutral\n",
       "1                                        Rất tuyệt vời  positive\n",
       "2          Em xin chúc anh mạnh khỏe vui vẻ thành công  positive\n",
       "3                        Em xin anh chị bỏ qua giúp em   neutral\n",
       "4                                Em xin cảm ơn mến Đức   neutral\n",
       "..                                                 ...       ...\n",
       "401                                Hết ý tưởng r à ad   positive\n",
       "402  À nay Tgdđ không bán laptop nữa, ae chuyển qua...  negative\n",
       "403                                                      neutral\n",
       "404                                                      neutral\n",
       "405              Không bán thì thôi, thiếu gì chỗ mua   negative\n",
       "\n",
       "[406 rows x 2 columns]"
      ]
     },
     "execution_count": 6,
     "metadata": {},
     "output_type": "execute_result"
    }
   ],
   "source": [
    "df['sentiment'] = [labels[p] for p in all_preds]\n",
    "df[['comment_text_remove_emojis', 'sentiment']]"
   ]
  },
  {
   "cell_type": "code",
   "execution_count": 7,
   "id": "bee4fe4c",
   "metadata": {},
   "outputs": [
    {
     "data": {
      "application/vnd.microsoft.datawrangler.viewer.v0+json": {
       "columns": [
        {
         "name": "sentiment",
         "rawType": "object",
         "type": "string"
        },
        {
         "name": "Count",
         "rawType": "int64",
         "type": "integer"
        },
        {
         "name": "Percentage (%)",
         "rawType": "float64",
         "type": "float"
        }
       ],
       "ref": "0b205602-b4c9-422a-bc14-8b0104d75503",
       "rows": [
        [
         "negative",
         "211",
         "51.97"
        ],
        [
         "neutral",
         "165",
         "40.64"
        ],
        [
         "positive",
         "30",
         "7.39"
        ]
       ],
       "shape": {
        "columns": 2,
        "rows": 3
       }
      },
      "text/html": [
       "<div>\n",
       "<style scoped>\n",
       "    .dataframe tbody tr th:only-of-type {\n",
       "        vertical-align: middle;\n",
       "    }\n",
       "\n",
       "    .dataframe tbody tr th {\n",
       "        vertical-align: top;\n",
       "    }\n",
       "\n",
       "    .dataframe thead th {\n",
       "        text-align: right;\n",
       "    }\n",
       "</style>\n",
       "<table border=\"1\" class=\"dataframe\">\n",
       "  <thead>\n",
       "    <tr style=\"text-align: right;\">\n",
       "      <th></th>\n",
       "      <th>Count</th>\n",
       "      <th>Percentage (%)</th>\n",
       "    </tr>\n",
       "    <tr>\n",
       "      <th>sentiment</th>\n",
       "      <th></th>\n",
       "      <th></th>\n",
       "    </tr>\n",
       "  </thead>\n",
       "  <tbody>\n",
       "    <tr>\n",
       "      <th>negative</th>\n",
       "      <td>211</td>\n",
       "      <td>51.97</td>\n",
       "    </tr>\n",
       "    <tr>\n",
       "      <th>neutral</th>\n",
       "      <td>165</td>\n",
       "      <td>40.64</td>\n",
       "    </tr>\n",
       "    <tr>\n",
       "      <th>positive</th>\n",
       "      <td>30</td>\n",
       "      <td>7.39</td>\n",
       "    </tr>\n",
       "  </tbody>\n",
       "</table>\n",
       "</div>"
      ],
      "text/plain": [
       "           Count  Percentage (%)\n",
       "sentiment                       \n",
       "negative     211           51.97\n",
       "neutral      165           40.64\n",
       "positive      30            7.39"
      ]
     },
     "execution_count": 7,
     "metadata": {},
     "output_type": "execute_result"
    }
   ],
   "source": [
    "sentiment_counts = df['sentiment'].value_counts()\n",
    "sentiment_percent = df['sentiment'].value_counts(normalize=True) * 100\n",
    "\n",
    "result = pd.DataFrame({\n",
    "    'Count': sentiment_counts,\n",
    "    'Percentage (%)': sentiment_percent.round(2)\n",
    "})\n",
    "\n",
    "result"
   ]
  },
  {
   "cell_type": "code",
   "execution_count": 8,
   "id": "7d4bb920",
   "metadata": {},
   "outputs": [
    {
     "data": {
      "application/vnd.microsoft.datawrangler.viewer.v0+json": {
       "columns": [
        {
         "name": "index",
         "rawType": "int64",
         "type": "integer"
        },
        {
         "name": "url",
         "rawType": "object",
         "type": "string"
        },
        {
         "name": "comment_text",
         "rawType": "object",
         "type": "string"
        },
        {
         "name": "comment_text_remove_emojis",
         "rawType": "object",
         "type": "string"
        },
        {
         "name": "sentiment",
         "rawType": "object",
         "type": "string"
        }
       ],
       "ref": "ae08f8b8-342f-4489-bc3b-d409ae95e1f8",
       "rows": [
        [
         "1",
         "https://www.facebook.com/100064878600431/posts/1147451870760756",
         "Rất tuyệt vời",
         "Rất tuyệt vời",
         "positive"
        ],
        [
         "2",
         "https://www.facebook.com/100064878600431/posts/1147451870760756",
         "Em xin chúc anh mạnh khỏe vui vẻ thành công",
         "Em xin chúc anh mạnh khỏe vui vẻ thành công",
         "positive"
        ],
        [
         "7",
         "https://www.facebook.com/100064878600431/posts/1147451870760756",
         "Hi",
         "Hi",
         "positive"
        ],
        [
         "10",
         "https://www.facebook.com/100064878600431/posts/1147451870760756",
         "Tự hào về bạn quá, cố gắng phát huy nhé!",
         "Tự hào về bạn quá, cố gắng phát huy nhé!",
         "positive"
        ],
        [
         "21",
         "https://www.facebook.com/100064878600431/posts/1147451870760756",
         "\"Must-have item\" được săn lùng nhiều nhất! Chính là [tai nghe Airpods Pro rep 1:1]: https://vt.tiktok.com/ZSk1Hp6Jc/ 👍",
         "\"Must-have item\" được săn lùng nhiều nhất! Chính là [tai nghe Airpods Pro rep 1:1]: https://vt.tiktok.com/ZSk1Hp6Jc/ ",
         "positive"
        ],
        [
         "23",
         "https://www.facebook.com/100064878600431/posts/1147436614095615",
         "Rất tuyệt vời",
         "Rất tuyệt vời",
         "positive"
        ],
        [
         "30",
         "https://www.facebook.com/100064878600431/posts/1147413360764607",
         "10 đỉm cho team vì biết nghe lời 🤣",
         "10 đỉm cho team vì biết nghe lời ",
         "positive"
        ],
        [
         "32",
         "https://www.facebook.com/100064878600431/posts/1147413360764607",
         "Rất tuyệt vời",
         "Rất tuyệt vời",
         "positive"
        ],
        [
         "50",
         "https://www.facebook.com/100064878600431/posts/1147413360764607",
         "Content này còn được này add:)",
         "Content này còn được này add:)",
         "positive"
        ],
        [
         "52",
         "https://www.facebook.com/100064878600431/posts/1146548730851070",
         "Rất tuyệt vời",
         "Rất tuyệt vời",
         "positive"
        ],
        [
         "68",
         "https://www.facebook.com/100064878600431/posts/1146529790852964",
         "Rất tuyệt vời",
         "Rất tuyệt vời",
         "positive"
        ],
        [
         "94",
         "https://www.facebook.com/100064878600431/posts/1146504504188826",
         "Tặng office trọn đời hay sao ạ 😆",
         "Tặng office trọn đời hay sao ạ ",
         "positive"
        ],
        [
         "98",
         "https://www.facebook.com/100064878600431/posts/1146504504188826",
         "Office vĩnh viễn hả ta",
         "Office vĩnh viễn hả ta",
         "positive"
        ],
        [
         "126",
         "https://www.facebook.com/100064878600431/posts/1146504504188826",
         "Cười v 🤣",
         "Cười v ",
         "positive"
        ],
        [
         "159",
         "https://www.facebook.com/100064878600431/posts/1146504504188826",
         "Content này phản dame nha- chê á",
         "Content này phản dame nha- chê á",
         "positive"
        ],
        [
         "178",
         "https://www.facebook.com/100064878600431/posts/1145328240973119",
         "Đang định sáng mai vào mua",
         "Đang định sáng mai vào mua",
         "positive"
        ],
        [
         "183",
         "https://www.facebook.com/100064878600431/posts/1145328240973119",
         "Continued",
         "Continued",
         "positive"
        ],
        [
         "195",
         "https://www.facebook.com/100064878600431/posts/1145328240973119",
         "Ai duyệt camp này được cũng hay 🥲",
         "Ai duyệt camp này được cũng hay ",
         "positive"
        ],
        [
         "245",
         "https://www.facebook.com/100064878600431/posts/1145328240973119",
         "Chak ban may tinh sach tay",
         "Chak ban may tinh sach tay",
         "positive"
        ],
        [
         "247",
         "https://www.facebook.com/100064878600431/posts/1145328240973119",
         "Nói linh tinh",
         "Nói linh tinh",
         "positive"
        ],
        [
         "302",
         "https://www.facebook.com/100064878600431/posts/1145328240973119",
         "Bỏ hả￼",
         "Bỏ hả￼",
         "positive"
        ],
        [
         "314",
         "https://www.facebook.com/100064878600431/posts/1145328240973119",
         "chắc số laptop 30-31 tháng 05 này tốt lắm nè",
         "chắc số laptop 30-31 tháng 05 này tốt lắm nè",
         "positive"
        ],
        [
         "315",
         "https://www.facebook.com/100064878600431/posts/1145328240973119",
         "Tặng y",
         "Tặng y",
         "positive"
        ],
        [
         "318",
         "https://www.facebook.com/100064878600431/posts/1145328240973119",
         "Tin chuẩn k ad",
         "Tin chuẩn k ad",
         "positive"
        ],
        [
         "340",
         "https://www.facebook.com/100064878600431/posts/1145328240973119",
         "Để qua fpt shop. Thanks ad thông tin nha",
         "Để qua fpt shop. Thanks ad thông tin nha",
         "positive"
        ],
        [
         "368",
         "https://www.facebook.com/100064878600431/posts/1145328240973119",
         "Thegioididong mãi đỉnh. \n Bán giá tốt mà tư vấn, chăm sóc khách hàng có tâm. Các ông mà chê Thegioididong thì đi các cửa hàng khác, sau vẫn quay lại Thegioididong mua mà thôi. Từ điện thoại, máy tính và rất nhiều đồ khác tôi mua ở đây, dùng bền và chất… Xem thêm 😃",
         "Thegioididong mãi đỉnh. \n Bán giá tốt mà tư vấn, chăm sóc khách hàng có tâm. Các ông mà chê Thegioididong thì đi các cửa hàng khác, sau vẫn quay lại Thegioididong mua mà thôi. Từ điện thoại, máy tính và rất nhiều đồ khác tôi mua ở đây, dùng bền và chất… Xem thêm ",
         "positive"
        ],
        [
         "379",
         "https://www.facebook.com/100064878600431/posts/1145328240973119",
         "Ok qua chỗ nào bán mua",
         "Ok qua chỗ nào bán mua",
         "positive"
        ],
        [
         "389",
         "https://www.facebook.com/100064878600431/posts/1145328240973119",
         "Content mạnh v",
         "Content mạnh v",
         "positive"
        ],
        [
         "392",
         "https://www.facebook.com/100064878600431/posts/1145328240973119",
         "Nguyễn Tính đọc cmt… tôi có thể cười đến cuối đời",
         "Nguyễn Tính đọc cmt… tôi có thể cười đến cuối đời",
         "positive"
        ],
        [
         "401",
         "https://www.facebook.com/100064878600431/posts/1145328240973119",
         "Hết ý tưởng r à ad 🤣",
         "Hết ý tưởng r à ad ",
         "positive"
        ]
       ],
       "shape": {
        "columns": 4,
        "rows": 30
       }
      },
      "text/html": [
       "<div>\n",
       "<style scoped>\n",
       "    .dataframe tbody tr th:only-of-type {\n",
       "        vertical-align: middle;\n",
       "    }\n",
       "\n",
       "    .dataframe tbody tr th {\n",
       "        vertical-align: top;\n",
       "    }\n",
       "\n",
       "    .dataframe thead th {\n",
       "        text-align: right;\n",
       "    }\n",
       "</style>\n",
       "<table border=\"1\" class=\"dataframe\">\n",
       "  <thead>\n",
       "    <tr style=\"text-align: right;\">\n",
       "      <th></th>\n",
       "      <th>url</th>\n",
       "      <th>comment_text</th>\n",
       "      <th>comment_text_remove_emojis</th>\n",
       "      <th>sentiment</th>\n",
       "    </tr>\n",
       "  </thead>\n",
       "  <tbody>\n",
       "    <tr>\n",
       "      <th>1</th>\n",
       "      <td>https://www.facebook.com/100064878600431/posts...</td>\n",
       "      <td>Rất tuyệt vời</td>\n",
       "      <td>Rất tuyệt vời</td>\n",
       "      <td>positive</td>\n",
       "    </tr>\n",
       "    <tr>\n",
       "      <th>2</th>\n",
       "      <td>https://www.facebook.com/100064878600431/posts...</td>\n",
       "      <td>Em xin chúc anh mạnh khỏe vui vẻ thành công</td>\n",
       "      <td>Em xin chúc anh mạnh khỏe vui vẻ thành công</td>\n",
       "      <td>positive</td>\n",
       "    </tr>\n",
       "    <tr>\n",
       "      <th>7</th>\n",
       "      <td>https://www.facebook.com/100064878600431/posts...</td>\n",
       "      <td>Hi</td>\n",
       "      <td>Hi</td>\n",
       "      <td>positive</td>\n",
       "    </tr>\n",
       "    <tr>\n",
       "      <th>10</th>\n",
       "      <td>https://www.facebook.com/100064878600431/posts...</td>\n",
       "      <td>Tự hào về bạn quá, cố gắng phát huy nhé!</td>\n",
       "      <td>Tự hào về bạn quá, cố gắng phát huy nhé!</td>\n",
       "      <td>positive</td>\n",
       "    </tr>\n",
       "    <tr>\n",
       "      <th>21</th>\n",
       "      <td>https://www.facebook.com/100064878600431/posts...</td>\n",
       "      <td>\"Must-have item\" được săn lùng nhiều nhất! Chí...</td>\n",
       "      <td>\"Must-have item\" được săn lùng nhiều nhất! Chí...</td>\n",
       "      <td>positive</td>\n",
       "    </tr>\n",
       "    <tr>\n",
       "      <th>23</th>\n",
       "      <td>https://www.facebook.com/100064878600431/posts...</td>\n",
       "      <td>Rất tuyệt vời</td>\n",
       "      <td>Rất tuyệt vời</td>\n",
       "      <td>positive</td>\n",
       "    </tr>\n",
       "    <tr>\n",
       "      <th>30</th>\n",
       "      <td>https://www.facebook.com/100064878600431/posts...</td>\n",
       "      <td>10 đỉm cho team vì biết nghe lời 🤣</td>\n",
       "      <td>10 đỉm cho team vì biết nghe lời</td>\n",
       "      <td>positive</td>\n",
       "    </tr>\n",
       "    <tr>\n",
       "      <th>32</th>\n",
       "      <td>https://www.facebook.com/100064878600431/posts...</td>\n",
       "      <td>Rất tuyệt vời</td>\n",
       "      <td>Rất tuyệt vời</td>\n",
       "      <td>positive</td>\n",
       "    </tr>\n",
       "    <tr>\n",
       "      <th>50</th>\n",
       "      <td>https://www.facebook.com/100064878600431/posts...</td>\n",
       "      <td>Content này còn được này add:)</td>\n",
       "      <td>Content này còn được này add:)</td>\n",
       "      <td>positive</td>\n",
       "    </tr>\n",
       "    <tr>\n",
       "      <th>52</th>\n",
       "      <td>https://www.facebook.com/100064878600431/posts...</td>\n",
       "      <td>Rất tuyệt vời</td>\n",
       "      <td>Rất tuyệt vời</td>\n",
       "      <td>positive</td>\n",
       "    </tr>\n",
       "    <tr>\n",
       "      <th>68</th>\n",
       "      <td>https://www.facebook.com/100064878600431/posts...</td>\n",
       "      <td>Rất tuyệt vời</td>\n",
       "      <td>Rất tuyệt vời</td>\n",
       "      <td>positive</td>\n",
       "    </tr>\n",
       "    <tr>\n",
       "      <th>94</th>\n",
       "      <td>https://www.facebook.com/100064878600431/posts...</td>\n",
       "      <td>Tặng office trọn đời hay sao ạ 😆</td>\n",
       "      <td>Tặng office trọn đời hay sao ạ</td>\n",
       "      <td>positive</td>\n",
       "    </tr>\n",
       "    <tr>\n",
       "      <th>98</th>\n",
       "      <td>https://www.facebook.com/100064878600431/posts...</td>\n",
       "      <td>Office vĩnh viễn hả ta</td>\n",
       "      <td>Office vĩnh viễn hả ta</td>\n",
       "      <td>positive</td>\n",
       "    </tr>\n",
       "    <tr>\n",
       "      <th>126</th>\n",
       "      <td>https://www.facebook.com/100064878600431/posts...</td>\n",
       "      <td>Cười v 🤣</td>\n",
       "      <td>Cười v</td>\n",
       "      <td>positive</td>\n",
       "    </tr>\n",
       "    <tr>\n",
       "      <th>159</th>\n",
       "      <td>https://www.facebook.com/100064878600431/posts...</td>\n",
       "      <td>Content này phản dame nha- chê á</td>\n",
       "      <td>Content này phản dame nha- chê á</td>\n",
       "      <td>positive</td>\n",
       "    </tr>\n",
       "    <tr>\n",
       "      <th>178</th>\n",
       "      <td>https://www.facebook.com/100064878600431/posts...</td>\n",
       "      <td>Đang định sáng mai vào mua</td>\n",
       "      <td>Đang định sáng mai vào mua</td>\n",
       "      <td>positive</td>\n",
       "    </tr>\n",
       "    <tr>\n",
       "      <th>183</th>\n",
       "      <td>https://www.facebook.com/100064878600431/posts...</td>\n",
       "      <td>Continued</td>\n",
       "      <td>Continued</td>\n",
       "      <td>positive</td>\n",
       "    </tr>\n",
       "    <tr>\n",
       "      <th>195</th>\n",
       "      <td>https://www.facebook.com/100064878600431/posts...</td>\n",
       "      <td>Ai duyệt camp này được cũng hay 🥲</td>\n",
       "      <td>Ai duyệt camp này được cũng hay</td>\n",
       "      <td>positive</td>\n",
       "    </tr>\n",
       "    <tr>\n",
       "      <th>245</th>\n",
       "      <td>https://www.facebook.com/100064878600431/posts...</td>\n",
       "      <td>Chak ban may tinh sach tay</td>\n",
       "      <td>Chak ban may tinh sach tay</td>\n",
       "      <td>positive</td>\n",
       "    </tr>\n",
       "    <tr>\n",
       "      <th>247</th>\n",
       "      <td>https://www.facebook.com/100064878600431/posts...</td>\n",
       "      <td>Nói linh tinh</td>\n",
       "      <td>Nói linh tinh</td>\n",
       "      <td>positive</td>\n",
       "    </tr>\n",
       "    <tr>\n",
       "      <th>302</th>\n",
       "      <td>https://www.facebook.com/100064878600431/posts...</td>\n",
       "      <td>Bỏ hả￼</td>\n",
       "      <td>Bỏ hả￼</td>\n",
       "      <td>positive</td>\n",
       "    </tr>\n",
       "    <tr>\n",
       "      <th>314</th>\n",
       "      <td>https://www.facebook.com/100064878600431/posts...</td>\n",
       "      <td>chắc số laptop 30-31 tháng 05 này tốt lắm nè</td>\n",
       "      <td>chắc số laptop 30-31 tháng 05 này tốt lắm nè</td>\n",
       "      <td>positive</td>\n",
       "    </tr>\n",
       "    <tr>\n",
       "      <th>315</th>\n",
       "      <td>https://www.facebook.com/100064878600431/posts...</td>\n",
       "      <td>Tặng y</td>\n",
       "      <td>Tặng y</td>\n",
       "      <td>positive</td>\n",
       "    </tr>\n",
       "    <tr>\n",
       "      <th>318</th>\n",
       "      <td>https://www.facebook.com/100064878600431/posts...</td>\n",
       "      <td>Tin chuẩn k ad</td>\n",
       "      <td>Tin chuẩn k ad</td>\n",
       "      <td>positive</td>\n",
       "    </tr>\n",
       "    <tr>\n",
       "      <th>340</th>\n",
       "      <td>https://www.facebook.com/100064878600431/posts...</td>\n",
       "      <td>Để qua fpt shop. Thanks ad thông tin nha</td>\n",
       "      <td>Để qua fpt shop. Thanks ad thông tin nha</td>\n",
       "      <td>positive</td>\n",
       "    </tr>\n",
       "    <tr>\n",
       "      <th>368</th>\n",
       "      <td>https://www.facebook.com/100064878600431/posts...</td>\n",
       "      <td>Thegioididong mãi đỉnh. \\n Bán giá tốt mà tư v...</td>\n",
       "      <td>Thegioididong mãi đỉnh. \\n Bán giá tốt mà tư v...</td>\n",
       "      <td>positive</td>\n",
       "    </tr>\n",
       "    <tr>\n",
       "      <th>379</th>\n",
       "      <td>https://www.facebook.com/100064878600431/posts...</td>\n",
       "      <td>Ok qua chỗ nào bán mua</td>\n",
       "      <td>Ok qua chỗ nào bán mua</td>\n",
       "      <td>positive</td>\n",
       "    </tr>\n",
       "    <tr>\n",
       "      <th>389</th>\n",
       "      <td>https://www.facebook.com/100064878600431/posts...</td>\n",
       "      <td>Content mạnh v</td>\n",
       "      <td>Content mạnh v</td>\n",
       "      <td>positive</td>\n",
       "    </tr>\n",
       "    <tr>\n",
       "      <th>392</th>\n",
       "      <td>https://www.facebook.com/100064878600431/posts...</td>\n",
       "      <td>Nguyễn Tính đọc cmt… tôi có thể cười đến cuối đời</td>\n",
       "      <td>Nguyễn Tính đọc cmt… tôi có thể cười đến cuối đời</td>\n",
       "      <td>positive</td>\n",
       "    </tr>\n",
       "    <tr>\n",
       "      <th>401</th>\n",
       "      <td>https://www.facebook.com/100064878600431/posts...</td>\n",
       "      <td>Hết ý tưởng r à ad 🤣</td>\n",
       "      <td>Hết ý tưởng r à ad</td>\n",
       "      <td>positive</td>\n",
       "    </tr>\n",
       "  </tbody>\n",
       "</table>\n",
       "</div>"
      ],
      "text/plain": [
       "                                                   url  \\\n",
       "1    https://www.facebook.com/100064878600431/posts...   \n",
       "2    https://www.facebook.com/100064878600431/posts...   \n",
       "7    https://www.facebook.com/100064878600431/posts...   \n",
       "10   https://www.facebook.com/100064878600431/posts...   \n",
       "21   https://www.facebook.com/100064878600431/posts...   \n",
       "23   https://www.facebook.com/100064878600431/posts...   \n",
       "30   https://www.facebook.com/100064878600431/posts...   \n",
       "32   https://www.facebook.com/100064878600431/posts...   \n",
       "50   https://www.facebook.com/100064878600431/posts...   \n",
       "52   https://www.facebook.com/100064878600431/posts...   \n",
       "68   https://www.facebook.com/100064878600431/posts...   \n",
       "94   https://www.facebook.com/100064878600431/posts...   \n",
       "98   https://www.facebook.com/100064878600431/posts...   \n",
       "126  https://www.facebook.com/100064878600431/posts...   \n",
       "159  https://www.facebook.com/100064878600431/posts...   \n",
       "178  https://www.facebook.com/100064878600431/posts...   \n",
       "183  https://www.facebook.com/100064878600431/posts...   \n",
       "195  https://www.facebook.com/100064878600431/posts...   \n",
       "245  https://www.facebook.com/100064878600431/posts...   \n",
       "247  https://www.facebook.com/100064878600431/posts...   \n",
       "302  https://www.facebook.com/100064878600431/posts...   \n",
       "314  https://www.facebook.com/100064878600431/posts...   \n",
       "315  https://www.facebook.com/100064878600431/posts...   \n",
       "318  https://www.facebook.com/100064878600431/posts...   \n",
       "340  https://www.facebook.com/100064878600431/posts...   \n",
       "368  https://www.facebook.com/100064878600431/posts...   \n",
       "379  https://www.facebook.com/100064878600431/posts...   \n",
       "389  https://www.facebook.com/100064878600431/posts...   \n",
       "392  https://www.facebook.com/100064878600431/posts...   \n",
       "401  https://www.facebook.com/100064878600431/posts...   \n",
       "\n",
       "                                          comment_text  \\\n",
       "1                                        Rất tuyệt vời   \n",
       "2          Em xin chúc anh mạnh khỏe vui vẻ thành công   \n",
       "7                                                   Hi   \n",
       "10            Tự hào về bạn quá, cố gắng phát huy nhé!   \n",
       "21   \"Must-have item\" được săn lùng nhiều nhất! Chí...   \n",
       "23                                       Rất tuyệt vời   \n",
       "30                  10 đỉm cho team vì biết nghe lời 🤣   \n",
       "32                                       Rất tuyệt vời   \n",
       "50                      Content này còn được này add:)   \n",
       "52                                       Rất tuyệt vời   \n",
       "68                                       Rất tuyệt vời   \n",
       "94                    Tặng office trọn đời hay sao ạ 😆   \n",
       "98                              Office vĩnh viễn hả ta   \n",
       "126                                           Cười v 🤣   \n",
       "159                   Content này phản dame nha- chê á   \n",
       "178                         Đang định sáng mai vào mua   \n",
       "183                                          Continued   \n",
       "195                  Ai duyệt camp này được cũng hay 🥲   \n",
       "245                         Chak ban may tinh sach tay   \n",
       "247                                      Nói linh tinh   \n",
       "302                                             Bỏ hả￼   \n",
       "314       chắc số laptop 30-31 tháng 05 này tốt lắm nè   \n",
       "315                                             Tặng y   \n",
       "318                                     Tin chuẩn k ad   \n",
       "340           Để qua fpt shop. Thanks ad thông tin nha   \n",
       "368  Thegioididong mãi đỉnh. \\n Bán giá tốt mà tư v...   \n",
       "379                             Ok qua chỗ nào bán mua   \n",
       "389                                     Content mạnh v   \n",
       "392  Nguyễn Tính đọc cmt… tôi có thể cười đến cuối đời   \n",
       "401                               Hết ý tưởng r à ad 🤣   \n",
       "\n",
       "                            comment_text_remove_emojis sentiment  \n",
       "1                                        Rất tuyệt vời  positive  \n",
       "2          Em xin chúc anh mạnh khỏe vui vẻ thành công  positive  \n",
       "7                                                   Hi  positive  \n",
       "10            Tự hào về bạn quá, cố gắng phát huy nhé!  positive  \n",
       "21   \"Must-have item\" được săn lùng nhiều nhất! Chí...  positive  \n",
       "23                                       Rất tuyệt vời  positive  \n",
       "30                   10 đỉm cho team vì biết nghe lời   positive  \n",
       "32                                       Rất tuyệt vời  positive  \n",
       "50                      Content này còn được này add:)  positive  \n",
       "52                                       Rất tuyệt vời  positive  \n",
       "68                                       Rất tuyệt vời  positive  \n",
       "94                     Tặng office trọn đời hay sao ạ   positive  \n",
       "98                              Office vĩnh viễn hả ta  positive  \n",
       "126                                            Cười v   positive  \n",
       "159                   Content này phản dame nha- chê á  positive  \n",
       "178                         Đang định sáng mai vào mua  positive  \n",
       "183                                          Continued  positive  \n",
       "195                   Ai duyệt camp này được cũng hay   positive  \n",
       "245                         Chak ban may tinh sach tay  positive  \n",
       "247                                      Nói linh tinh  positive  \n",
       "302                                             Bỏ hả￼  positive  \n",
       "314       chắc số laptop 30-31 tháng 05 này tốt lắm nè  positive  \n",
       "315                                             Tặng y  positive  \n",
       "318                                     Tin chuẩn k ad  positive  \n",
       "340           Để qua fpt shop. Thanks ad thông tin nha  positive  \n",
       "368  Thegioididong mãi đỉnh. \\n Bán giá tốt mà tư v...  positive  \n",
       "379                             Ok qua chỗ nào bán mua  positive  \n",
       "389                                     Content mạnh v  positive  \n",
       "392  Nguyễn Tính đọc cmt… tôi có thể cười đến cuối đời  positive  \n",
       "401                                Hết ý tưởng r à ad   positive  "
      ]
     },
     "execution_count": 8,
     "metadata": {},
     "output_type": "execute_result"
    }
   ],
   "source": [
    "positive_df = df[df['sentiment'] == 'positive']\n",
    "positive_df"
   ]
  },
  {
   "cell_type": "code",
   "execution_count": 9,
   "id": "40678756",
   "metadata": {},
   "outputs": [],
   "source": [
    "df.to_csv('../data/processed/facebook_comments_cleaned_with_sentiment.csv', index=False)"
   ]
  }
 ],
 "metadata": {
  "kernelspec": {
   "display_name": "tgdd_customer_sentiment",
   "language": "python",
   "name": "python3"
  },
  "language_info": {
   "codemirror_mode": {
    "name": "ipython",
    "version": 3
   },
   "file_extension": ".py",
   "mimetype": "text/x-python",
   "name": "python",
   "nbconvert_exporter": "python",
   "pygments_lexer": "ipython3",
   "version": "3.11.9"
  }
 },
 "nbformat": 4,
 "nbformat_minor": 5
}
